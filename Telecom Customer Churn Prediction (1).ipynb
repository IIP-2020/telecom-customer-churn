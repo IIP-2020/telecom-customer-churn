{
 "cells": [
  {
   "cell_type": "code",
   "execution_count": 1,
   "metadata": {
    "_cell_guid": "b1076dfc-b9ad-4769-8c92-a6c4dae69d19",
    "_kg_hide-input": false,
    "_uuid": "8f2839f25d086af736a60e9eeb907d3b93b6e0e5"
   },
   "outputs": [
    {
     "data": {
      "text/html": [
       "        <script type=\"text/javascript\">\n",
       "        window.PlotlyConfig = {MathJaxConfig: 'local'};\n",
       "        if (window.MathJax) {MathJax.Hub.Config({SVG: {font: \"STIX-Web\"}});}\n",
       "        if (typeof require !== 'undefined') {\n",
       "        require.undef(\"plotly\");\n",
       "        requirejs.config({\n",
       "            paths: {\n",
       "                'plotly': ['https://cdn.plot.ly/plotly-latest.min']\n",
       "            }\n",
       "        });\n",
       "        require(['plotly'], function(Plotly) {\n",
       "            window._Plotly = Plotly;\n",
       "        });\n",
       "        }\n",
       "        </script>\n",
       "        "
      ]
     },
     "metadata": {},
     "output_type": "display_data"
    }
   ],
   "source": [
    "#Importing libraries\n",
    "import numpy as np # linear algebra\n",
    "import pandas as pd # data processing, CSV file I/O (e.g. pd.read_csv)\n",
    "# Input data files are available in the \"../input/\" directory.\n",
    "import os\n",
    "import matplotlib.pyplot as plt#visualization\n",
    "from PIL import  Image\n",
    "%matplotlib inline\n",
    "import pandas as pd\n",
    "import seaborn as sns#visualization\n",
    "import itertools\n",
    "import warnings\n",
    "warnings.filterwarnings(\"ignore\")\n",
    "import io\n",
    "import plotly.offline as py#visualization\n",
    "py.init_notebook_mode(connected=True)#visualization\n",
    "import plotly.graph_objs as go#visualization\n",
    "import plotly.tools as tls#visualization\n",
    "import plotly.figure_factory as ff#visualization"
   ]
  },
  {
   "cell_type": "code",
   "execution_count": 2,
   "metadata": {
    "_cell_guid": "79c7e3d0-c299-4dcb-8224-4455121ee9b0",
    "_uuid": "d629ff2d2480ee46fbb7e2d37f6b5fab8052498a"
   },
   "outputs": [
    {
     "data": {
      "text/html": [
       "<div>\n",
       "<style scoped>\n",
       "    .dataframe tbody tr th:only-of-type {\n",
       "        vertical-align: middle;\n",
       "    }\n",
       "\n",
       "    .dataframe tbody tr th {\n",
       "        vertical-align: top;\n",
       "    }\n",
       "\n",
       "    .dataframe thead th {\n",
       "        text-align: right;\n",
       "    }\n",
       "</style>\n",
       "<table border=\"1\" class=\"dataframe\">\n",
       "  <thead>\n",
       "    <tr style=\"text-align: right;\">\n",
       "      <th></th>\n",
       "      <th>customerID</th>\n",
       "      <th>gender</th>\n",
       "      <th>SeniorCitizen</th>\n",
       "      <th>Partner</th>\n",
       "      <th>Dependents</th>\n",
       "      <th>tenure</th>\n",
       "      <th>PhoneService</th>\n",
       "      <th>MultipleLines</th>\n",
       "      <th>InternetService</th>\n",
       "      <th>OnlineSecurity</th>\n",
       "      <th>...</th>\n",
       "      <th>DeviceProtection</th>\n",
       "      <th>TechSupport</th>\n",
       "      <th>StreamingTV</th>\n",
       "      <th>StreamingMovies</th>\n",
       "      <th>Contract</th>\n",
       "      <th>PaperlessBilling</th>\n",
       "      <th>PaymentMethod</th>\n",
       "      <th>MonthlyCharges</th>\n",
       "      <th>TotalCharges</th>\n",
       "      <th>Churn</th>\n",
       "    </tr>\n",
       "  </thead>\n",
       "  <tbody>\n",
       "    <tr>\n",
       "      <td>0</td>\n",
       "      <td>7590-VHVEG</td>\n",
       "      <td>Female</td>\n",
       "      <td>0</td>\n",
       "      <td>Yes</td>\n",
       "      <td>No</td>\n",
       "      <td>1</td>\n",
       "      <td>No</td>\n",
       "      <td>No phone service</td>\n",
       "      <td>DSL</td>\n",
       "      <td>No</td>\n",
       "      <td>...</td>\n",
       "      <td>No</td>\n",
       "      <td>No</td>\n",
       "      <td>No</td>\n",
       "      <td>No</td>\n",
       "      <td>Month-to-month</td>\n",
       "      <td>Yes</td>\n",
       "      <td>Electronic check</td>\n",
       "      <td>29.85</td>\n",
       "      <td>29.85</td>\n",
       "      <td>No</td>\n",
       "    </tr>\n",
       "    <tr>\n",
       "      <td>1</td>\n",
       "      <td>5575-GNVDE</td>\n",
       "      <td>Male</td>\n",
       "      <td>0</td>\n",
       "      <td>No</td>\n",
       "      <td>No</td>\n",
       "      <td>34</td>\n",
       "      <td>Yes</td>\n",
       "      <td>No</td>\n",
       "      <td>DSL</td>\n",
       "      <td>Yes</td>\n",
       "      <td>...</td>\n",
       "      <td>Yes</td>\n",
       "      <td>No</td>\n",
       "      <td>No</td>\n",
       "      <td>No</td>\n",
       "      <td>One year</td>\n",
       "      <td>No</td>\n",
       "      <td>Mailed check</td>\n",
       "      <td>56.95</td>\n",
       "      <td>1889.5</td>\n",
       "      <td>No</td>\n",
       "    </tr>\n",
       "    <tr>\n",
       "      <td>2</td>\n",
       "      <td>3668-QPYBK</td>\n",
       "      <td>Male</td>\n",
       "      <td>0</td>\n",
       "      <td>No</td>\n",
       "      <td>No</td>\n",
       "      <td>2</td>\n",
       "      <td>Yes</td>\n",
       "      <td>No</td>\n",
       "      <td>DSL</td>\n",
       "      <td>Yes</td>\n",
       "      <td>...</td>\n",
       "      <td>No</td>\n",
       "      <td>No</td>\n",
       "      <td>No</td>\n",
       "      <td>No</td>\n",
       "      <td>Month-to-month</td>\n",
       "      <td>Yes</td>\n",
       "      <td>Mailed check</td>\n",
       "      <td>53.85</td>\n",
       "      <td>108.15</td>\n",
       "      <td>Yes</td>\n",
       "    </tr>\n",
       "    <tr>\n",
       "      <td>3</td>\n",
       "      <td>7795-CFOCW</td>\n",
       "      <td>Male</td>\n",
       "      <td>0</td>\n",
       "      <td>No</td>\n",
       "      <td>No</td>\n",
       "      <td>45</td>\n",
       "      <td>No</td>\n",
       "      <td>No phone service</td>\n",
       "      <td>DSL</td>\n",
       "      <td>Yes</td>\n",
       "      <td>...</td>\n",
       "      <td>Yes</td>\n",
       "      <td>Yes</td>\n",
       "      <td>No</td>\n",
       "      <td>No</td>\n",
       "      <td>One year</td>\n",
       "      <td>No</td>\n",
       "      <td>Bank transfer (automatic)</td>\n",
       "      <td>42.30</td>\n",
       "      <td>1840.75</td>\n",
       "      <td>No</td>\n",
       "    </tr>\n",
       "    <tr>\n",
       "      <td>4</td>\n",
       "      <td>9237-HQITU</td>\n",
       "      <td>Female</td>\n",
       "      <td>0</td>\n",
       "      <td>No</td>\n",
       "      <td>No</td>\n",
       "      <td>2</td>\n",
       "      <td>Yes</td>\n",
       "      <td>No</td>\n",
       "      <td>Fiber optic</td>\n",
       "      <td>No</td>\n",
       "      <td>...</td>\n",
       "      <td>No</td>\n",
       "      <td>No</td>\n",
       "      <td>No</td>\n",
       "      <td>No</td>\n",
       "      <td>Month-to-month</td>\n",
       "      <td>Yes</td>\n",
       "      <td>Electronic check</td>\n",
       "      <td>70.70</td>\n",
       "      <td>151.65</td>\n",
       "      <td>Yes</td>\n",
       "    </tr>\n",
       "  </tbody>\n",
       "</table>\n",
       "<p>5 rows × 21 columns</p>\n",
       "</div>"
      ],
      "text/plain": [
       "   customerID  gender  SeniorCitizen Partner Dependents  tenure PhoneService  \\\n",
       "0  7590-VHVEG  Female              0     Yes         No       1           No   \n",
       "1  5575-GNVDE    Male              0      No         No      34          Yes   \n",
       "2  3668-QPYBK    Male              0      No         No       2          Yes   \n",
       "3  7795-CFOCW    Male              0      No         No      45           No   \n",
       "4  9237-HQITU  Female              0      No         No       2          Yes   \n",
       "\n",
       "      MultipleLines InternetService OnlineSecurity  ... DeviceProtection  \\\n",
       "0  No phone service             DSL             No  ...               No   \n",
       "1                No             DSL            Yes  ...              Yes   \n",
       "2                No             DSL            Yes  ...               No   \n",
       "3  No phone service             DSL            Yes  ...              Yes   \n",
       "4                No     Fiber optic             No  ...               No   \n",
       "\n",
       "  TechSupport StreamingTV StreamingMovies        Contract PaperlessBilling  \\\n",
       "0          No          No              No  Month-to-month              Yes   \n",
       "1          No          No              No        One year               No   \n",
       "2          No          No              No  Month-to-month              Yes   \n",
       "3         Yes          No              No        One year               No   \n",
       "4          No          No              No  Month-to-month              Yes   \n",
       "\n",
       "               PaymentMethod MonthlyCharges  TotalCharges Churn  \n",
       "0           Electronic check          29.85         29.85    No  \n",
       "1               Mailed check          56.95        1889.5    No  \n",
       "2               Mailed check          53.85        108.15   Yes  \n",
       "3  Bank transfer (automatic)          42.30       1840.75    No  \n",
       "4           Electronic check          70.70        151.65   Yes  \n",
       "\n",
       "[5 rows x 21 columns]"
      ]
     },
     "execution_count": 2,
     "metadata": {},
     "output_type": "execute_result"
    }
   ],
   "source": [
    "telcom = pd.read_csv(\"Telco-Customer-Churn.csv\")\n",
    "#first few rows\n",
    "telcom.head()"
   ]
  },
  {
   "cell_type": "markdown",
   "metadata": {
    "_uuid": "82e4c33ee04800fd84784c289f11906fda8ec201"
   },
   "source": [
    "## <a id='1.1'>1.1. Data overview</a>"
   ]
  },
  {
   "cell_type": "code",
   "execution_count": 3,
   "metadata": {
    "_uuid": "aa25365d81b3952c65b09ed30543b6172fd333f7"
   },
   "outputs": [
    {
     "name": "stdout",
     "output_type": "stream",
     "text": [
      "Rows     :  7043\n",
      "Columns  :  21\n",
      "\n",
      "Features : \n",
      " ['customerID', 'gender', 'SeniorCitizen', 'Partner', 'Dependents', 'tenure', 'PhoneService', 'MultipleLines', 'InternetService', 'OnlineSecurity', 'OnlineBackup', 'DeviceProtection', 'TechSupport', 'StreamingTV', 'StreamingMovies', 'Contract', 'PaperlessBilling', 'PaymentMethod', 'MonthlyCharges', 'TotalCharges', 'Churn']\n",
      "\n",
      "Missing values :   0\n",
      "\n",
      "Unique values :  \n",
      " customerID          7043\n",
      "gender                 2\n",
      "SeniorCitizen          2\n",
      "Partner                2\n",
      "Dependents             2\n",
      "tenure                73\n",
      "PhoneService           2\n",
      "MultipleLines          3\n",
      "InternetService        3\n",
      "OnlineSecurity         3\n",
      "OnlineBackup           3\n",
      "DeviceProtection       3\n",
      "TechSupport            3\n",
      "StreamingTV            3\n",
      "StreamingMovies        3\n",
      "Contract               3\n",
      "PaperlessBilling       2\n",
      "PaymentMethod          4\n",
      "MonthlyCharges      1585\n",
      "TotalCharges        6531\n",
      "Churn                  2\n",
      "dtype: int64\n"
     ]
    }
   ],
   "source": [
    "print (\"Rows     : \" ,telcom.shape[0])\n",
    "print (\"Columns  : \" ,telcom.shape[1])\n",
    "print (\"\\nFeatures : \\n\" ,telcom.columns.tolist())\n",
    "print (\"\\nMissing values :  \", telcom.isnull().sum().values.sum())\n",
    "print (\"\\nUnique values :  \\n\",telcom.nunique())"
   ]
  },
  {
   "cell_type": "markdown",
   "metadata": {
    "_uuid": "c8c010f36e29c116c6662301b08b0b0019d6e22e"
   },
   "source": [
    "# <a id='2'>2. Data Manipulation</a>"
   ]
  },
  {
   "cell_type": "code",
   "execution_count": 4,
   "metadata": {
    "_uuid": "8b10c13086dff7182e399b849e31bc03df54a14e"
   },
   "outputs": [],
   "source": [
    "#Data Manipulation\n",
    "\n",
    "#Replacing spaces with null values in total charges column\n",
    "telcom['TotalCharges'] = telcom[\"TotalCharges\"].replace(\" \",np.nan)\n",
    "\n",
    "#Dropping null values from total charges column which contain .15% missing data \n",
    "telcom = telcom[telcom[\"TotalCharges\"].notnull()]\n",
    "telcom = telcom.reset_index()[telcom.columns]\n",
    "\n",
    "#convert to float type\n",
    "telcom[\"TotalCharges\"] = telcom[\"TotalCharges\"].astype(float)\n",
    "\n",
    "#replace 'No internet service' to No for the following columns\n",
    "replace_cols = [ 'OnlineSecurity', 'OnlineBackup', 'DeviceProtection',\n",
    "                'TechSupport','StreamingTV', 'StreamingMovies']\n",
    "for i in replace_cols : \n",
    "    telcom[i]  = telcom[i].replace({'No internet service' : 'No'})\n",
    "    \n",
    "#replace values\n",
    "telcom[\"SeniorCitizen\"] = telcom[\"SeniorCitizen\"].replace({1:\"Yes\",0:\"No\"})\n",
    "\n",
    "#Tenure to categorical column\n",
    "def tenure_lab(telcom) :\n",
    "    \n",
    "    if telcom[\"tenure\"] <= 12 :\n",
    "        return \"Tenure_0-12\"\n",
    "    elif (telcom[\"tenure\"] > 12) & (telcom[\"tenure\"] <= 24 ):\n",
    "        return \"Tenure_12-24\"\n",
    "    elif (telcom[\"tenure\"] > 24) & (telcom[\"tenure\"] <= 48) :\n",
    "        return \"Tenure_24-48\"\n",
    "    elif (telcom[\"tenure\"] > 48) & (telcom[\"tenure\"] <= 60) :\n",
    "        return \"Tenure_48-60\"\n",
    "    elif telcom[\"tenure\"] > 60 :\n",
    "        return \"Tenure_gt_60\"\n",
    "telcom[\"tenure_group\"] = telcom.apply(lambda telcom:tenure_lab(telcom),\n",
    "                                      axis = 1)\n",
    "\n",
    "#Separating churn and non churn customers\n",
    "churn     = telcom[telcom[\"Churn\"] == \"Yes\"]\n",
    "not_churn = telcom[telcom[\"Churn\"] == \"No\"]\n",
    "\n",
    "#Separating catagorical and numerical columns\n",
    "Id_col     = ['customerID']\n",
    "target_col = [\"Churn\"]\n",
    "cat_cols   = telcom.nunique()[telcom.nunique() < 6].keys().tolist()\n",
    "cat_cols   = [x for x in cat_cols if x not in target_col]\n",
    "num_cols   = [x for x in telcom.columns if x not in cat_cols + target_col + Id_col]"
   ]
  },
  {
   "cell_type": "markdown",
   "metadata": {
    "_uuid": "fbe477239c9240b5402053e0bc572bc5841c91a4"
   },
   "source": [
    "# <a id='3'>3. Exploratory Data Analysis</a>"
   ]
  },
  {
   "cell_type": "markdown",
   "metadata": {
    "_uuid": "09ba96d314bd92da87f956c3b265b78317a17d17"
   },
   "source": [
    "## <a id='3.1'>3.1. Customer attrition in data</a>"
   ]
  },
  {
   "cell_type": "code",
   "execution_count": null,
   "metadata": {
    "_kg_hide-input": false,
    "_uuid": "35bf6ff6c7e9ed36b0fb6fa2c67450a58135b62a"
   },
   "outputs": [],
   "source": [
    "#labels\n",
    "lab = telcom[\"Churn\"].value_counts().keys().tolist()\n",
    "#values\n",
    "val = telcom[\"Churn\"].value_counts().values.tolist()\n",
    "\n",
    "trace = go.Pie(labels = lab , values = val ,\n",
    "               marker = dict(colors =  [ 'royalblue' ,'lime'],\n",
    "                             line = dict(color = \"white\",\n",
    "                             width =  1.3)),\n",
    "               rotation = 90, hoverinfo = \"label+value+text\",\n",
    "               hole = .5)\n",
    "layout = go.Layout(dict(title = \"Customer attrition in data\",\n",
    "                        plot_bgcolor  = \"rgb(243,243,243)\",\n",
    "                        paper_bgcolor = \"rgb(243,243,243)\",))\n",
    "\n",
    "data = [trace]\n",
    "fig = go.Figure(data = data,layout = layout)\n",
    "py.iplot(fig)"
   ]
  },
  {
   "cell_type": "markdown",
   "metadata": {
    "_uuid": "34b437d12b3391c3a4d6ae357cb23d408cbc1b18"
   },
   "source": [
    "## <a id='3.2'>3.2. Varibles distribution in customer attrition</a>"
   ]
  },
  {
   "cell_type": "code",
   "execution_count": null,
   "metadata": {
    "_kg_hide-input": false,
    "_uuid": "cd1173ccd1666f350390b7d401e3a5075a7e790d"
   },
   "outputs": [],
   "source": [
    "#function  for pie plot for customer attrition types\n",
    "def plot_pie(column) :\n",
    "    \n",
    "    trace1 = go.Pie(values  = churn[column].value_counts().values.tolist(),\n",
    "                    labels  = churn[column].value_counts().keys().tolist(),\n",
    "                    hoverinfo = \"label+percent+name\",\n",
    "                    domain  = dict(x = [0,.48]),\n",
    "                    name    = \"Churn Customers\",\n",
    "                    marker  = dict(line = dict(width = 2, color = \"rgb(243,243,243)\")),\n",
    "                    hole    = .6)\n",
    "    trace2 = go.Pie(values  = not_churn[column].value_counts().values.tolist(),\n",
    "                    labels  = not_churn[column].value_counts().keys().tolist(),\n",
    "                    hoverinfo = \"label+percent+name\",\n",
    "                    marker  = dict(line = dict(width = 2,color = \"rgb(243,243,243)\")),\n",
    "                    domain  = dict(x = [.52,1]),\n",
    "                    hole    = .6,\n",
    "                    name    = \"Non churn customers\")\n",
    "\n",
    "\n",
    "    layout = go.Layout(dict(title = column + \" distribution in customer attrition \",\n",
    "                            plot_bgcolor  = \"rgb(243,243,243)\",\n",
    "                            paper_bgcolor = \"rgb(243,243,243)\",\n",
    "                            annotations = [dict(text = \"churn customers\",\n",
    "                                                font = dict(size = 13),\n",
    "                                                showarrow = False,\n",
    "                                                x = .15, y = .5),\n",
    "                                           dict(text = \"Non churn customers\",\n",
    "                                                font = dict(size = 13),\n",
    "                                                showarrow = False,\n",
    "                                                x = .88,y = .5)]))\n",
    "    data = [trace1,trace2]\n",
    "    fig  = go.Figure(data = data,layout = layout)\n",
    "    py.iplot(fig)\n",
    "\n",
    "#function  for histogram for customer attrition types\n",
    "def histogram(column) :\n",
    "    trace1 = go.Histogram(x  = churn[column],\n",
    "                          histnorm= \"percent\",\n",
    "                          name = \"Churn Customers\",\n",
    "                          marker = dict(line = dict(width = .5,\n",
    "                                        color = \"black\")), opacity = .9) \n",
    "    \n",
    "    trace2 = go.Histogram(x  = not_churn[column],\n",
    "                          histnorm = \"percent\",\n",
    "                          name = \"Non churn customers\",\n",
    "                          marker = dict(line = dict(width = .5,\n",
    "                                        color = \"black\")),opacity = .9)\n",
    "    \n",
    "    data = [trace1,trace2]\n",
    "    layout = go.Layout(dict(title =column + \" distribution in customer attrition \",\n",
    "                            plot_bgcolor  = \"rgb(243,243,243)\",\n",
    "                            paper_bgcolor = \"rgb(243,243,243)\",\n",
    "                            xaxis = dict(gridcolor = 'rgb(255, 255, 255)',\n",
    "                                             title = column,\n",
    "                                             zerolinewidth=1,\n",
    "                                             ticklen=5,\n",
    "                                             gridwidth=2),\n",
    "                            yaxis = dict(gridcolor = 'rgb(255, 255, 255)',\n",
    "                                             title = \"percent\",\n",
    "                                             zerolinewidth=1,\n",
    "                                             ticklen=5,\n",
    "                                             gridwidth=2),))\n",
    "    fig  = go.Figure(data=data,layout=layout)\n",
    "    \n",
    "    py.iplot(fig)\n",
    "    \n",
    "#function  for scatter plot matrix  for numerical columns in data\n",
    "def scatter_matrix(df)  :\n",
    "    \n",
    "    df  = df.sort_values(by = \"Churn\" ,ascending = True)\n",
    "    classes = df[\"Churn\"].unique().tolist()\n",
    "    classes\n",
    "    \n",
    "    class_code  = {classes[k] : k for k in range(2)}\n",
    "    class_code\n",
    "\n",
    "    color_vals = [class_code[cl] for cl in df[\"Churn\"]]\n",
    "    color_vals\n",
    "\n",
    "    pl_colorscale = \"Portland\"\n",
    "\n",
    "    pl_colorscale\n",
    "\n",
    "    text = [df.loc[k,\"Churn\"] for k in range(len(df))]\n",
    "    text\n",
    "\n",
    "    trace = go.Splom(dimensions = [dict(label  = \"tenure\",\n",
    "                                       values = df[\"tenure\"]),\n",
    "                                  dict(label  = 'MonthlyCharges',\n",
    "                                       values = df['MonthlyCharges']),\n",
    "                                  dict(label  = 'TotalCharges',\n",
    "                                       values = df['TotalCharges'])],\n",
    "                     text = text,\n",
    "                     marker = dict(color = color_vals,\n",
    "                                   colorscale = pl_colorscale,\n",
    "                                   size = 3,\n",
    "                                   showscale = False,\n",
    "                                   line = dict(width = .1,\n",
    "                                               color='rgb(230,230,230)')))\n",
    "    axis = dict(showline  = True,\n",
    "                zeroline  = False,\n",
    "                gridcolor = \"#fff\",\n",
    "                ticklen   = 4)\n",
    "    \n",
    "    layout = go.Layout(dict(title  = \n",
    "                            \"Scatter plot matrix for Numerical columns for customer attrition\",\n",
    "                            autosize = False,\n",
    "                            height = 800,\n",
    "                            width  = 800,\n",
    "                            dragmode = \"select\",\n",
    "                            hovermode = \"closest\",\n",
    "                            plot_bgcolor  = 'rgba(240,240,240, 0.95)',\n",
    "                            xaxis1 = dict(axis),\n",
    "                            yaxis1 = dict(axis),\n",
    "                            xaxis2 = dict(axis),\n",
    "                            yaxis2 = dict(axis),\n",
    "                            xaxis3 = dict(axis),\n",
    "                            yaxis3 = dict(axis),))\n",
    "    data   = [trace]\n",
    "    fig = go.Figure(data = data,layout = layout )\n",
    "    py.iplot(fig)\n",
    "\n",
    "#for all categorical columns plot pie\n",
    "for i in cat_cols :\n",
    "    plot_pie(i)\n",
    "\n",
    "#for all categorical columns plot histogram    \n",
    "for i in num_cols :\n",
    "    histogram(i)\n",
    "\n",
    "#scatter plot matrix\n",
    "scatter_matrix(telcom)"
   ]
  },
  {
   "cell_type": "markdown",
   "metadata": {
    "_uuid": "e672e14b3e9c120667e4016f7302bbf5197db9a4"
   },
   "source": [
    "## <a id='3.3'>3.3. Customer attrition in tenure groups</a>"
   ]
  },
  {
   "cell_type": "code",
   "execution_count": null,
   "metadata": {
    "_uuid": "cd4cac7beecf94213485984b0d6aa9cc5a9b91c5"
   },
   "outputs": [],
   "source": [
    "#cusomer attrition in tenure groups\n",
    "tg_ch  =  churn[\"tenure_group\"].value_counts().reset_index()\n",
    "tg_ch.columns  = [\"tenure_group\",\"count\"]\n",
    "tg_nch =  not_churn[\"tenure_group\"].value_counts().reset_index()\n",
    "tg_nch.columns = [\"tenure_group\",\"count\"]\n",
    "\n",
    "#bar - churn\n",
    "trace1 = go.Bar(x = tg_ch[\"tenure_group\"]  , y = tg_ch[\"count\"],\n",
    "                name = \"Churn Customers\",\n",
    "                marker = dict(line = dict(width = .5,color = \"black\")),\n",
    "                opacity = .9)\n",
    "\n",
    "#bar - not churn\n",
    "trace2 = go.Bar(x = tg_nch[\"tenure_group\"] , y = tg_nch[\"count\"],\n",
    "                name = \"Non Churn Customers\",\n",
    "                marker = dict(line = dict(width = .5,color = \"black\")),\n",
    "                opacity = .9)\n",
    "\n",
    "layout = go.Layout(dict(title = \"Customer attrition in tenure groups\",\n",
    "                        plot_bgcolor  = \"rgb(243,243,243)\",\n",
    "                        paper_bgcolor = \"rgb(243,243,243)\",\n",
    "                        xaxis = dict(gridcolor = 'rgb(255, 255, 255)',\n",
    "                                     title = \"tenure group\",\n",
    "                                     zerolinewidth=1,ticklen=5,gridwidth=2),\n",
    "                        yaxis = dict(gridcolor = 'rgb(255, 255, 255)',\n",
    "                                     title = \"count\",\n",
    "                                     zerolinewidth=1,ticklen=5,gridwidth=2),))\n",
    "data = [trace1,trace2]\n",
    "fig  = go.Figure(data=data,layout=layout)\n",
    "py.iplot(fig)"
   ]
  },
  {
   "cell_type": "code",
   "execution_count": null,
   "metadata": {},
   "outputs": [],
   "source": [
    "telcom.head()"
   ]
  },
  {
   "cell_type": "markdown",
   "metadata": {
    "_uuid": "7bfdef2b80b0504b9b61d857d2634caf2a563173"
   },
   "source": [
    "## <a id='3.4'>3.4. Monthly Charges and Total Charges by Tenure and Churn groups</a>"
   ]
  },
  {
   "cell_type": "code",
   "execution_count": null,
   "metadata": {
    "_uuid": "ac6bc6c2fbfbcb8c46f98aececc8443151011075"
   },
   "outputs": [],
   "source": [
    "telcom[['MonthlyCharges', 'TotalCharges','tenure',\"tenure_group\"]]\n",
    "\n",
    "#scatter plot monthly charges & total charges by tenure group\n",
    "\n",
    "def plot_tenure_scatter(tenure_group,color) :\n",
    "    tracer = go.Scatter(x = telcom[telcom[\"tenure_group\"] == tenure_group][\"MonthlyCharges\"],\n",
    "                        y = telcom[telcom[\"tenure_group\"] == tenure_group][\"TotalCharges\"],\n",
    "                        mode = \"markers\",marker = dict(line = dict(color = \"black\",\n",
    "                                                                   width = .2),\n",
    "                                                       size = 4 , color = color,\n",
    "                                                       symbol = \"diamond-dot\",\n",
    "                                                      ),\n",
    "                        name = tenure_group,\n",
    "                        opacity = .9\n",
    "                       )\n",
    "    return tracer\n",
    "\n",
    "#scatter plot monthly charges & total charges by churn group\n",
    "def plot_churncharges_scatter(churn,color) :\n",
    "    tracer = go.Scatter(x = telcom[telcom[\"Churn\"] == churn][\"MonthlyCharges\"],\n",
    "                        y = telcom[telcom[\"Churn\"] == churn][\"TotalCharges\"],\n",
    "                        mode = \"markers\",marker = dict(line = dict(color = \"black\",\n",
    "                                                                   width = .2),\n",
    "                                                       size = 4 , color = color,\n",
    "                                                       symbol = \"diamond-dot\",\n",
    "                                                      ),\n",
    "                        name = \"Churn - \" + churn,\n",
    "                        opacity = .9\n",
    "                       )\n",
    "    return tracer\n",
    "\n",
    "trace1 = plot_tenure_scatter(\"Tenure_0-12\",\"#FF3300\")\n",
    "trace2 = plot_tenure_scatter(\"Tenure_12-24\",\"#6666FF\")\n",
    "trace3 = plot_tenure_scatter(\"Tenure_24-48\",\"#99FF00\")\n",
    "trace4 = plot_tenure_scatter(\"Tenure_48-60\",\"#996600\")\n",
    "trace5 = plot_tenure_scatter(\"Tenure_gt_60\",\"grey\")\n",
    "trace6 = plot_churncharges_scatter(\"Yes\",\"red\")\n",
    "trace7 = plot_churncharges_scatter(\"No\",\"blue\")\n",
    "\n",
    "data1   = [trace1,trace2,trace3,trace4,trace5] \n",
    "data2   = [trace7,trace6]\n",
    "\n",
    "#layout\n",
    "def layout_title(title) :\n",
    "    layout = go.Layout(dict(title = title,\n",
    "                            plot_bgcolor  = \"rgb(243,243,243)\",\n",
    "                            paper_bgcolor = \"rgb(243,243,243)\",\n",
    "                            xaxis = dict(gridcolor = 'rgb(255, 255, 255)',\n",
    "                                         title = \"Monthly charges\",\n",
    "                                         zerolinewidth=1,ticklen=5,gridwidth=2),\n",
    "                            yaxis = dict(gridcolor = 'rgb(255, 255, 255)',\n",
    "                                         title = \"Total Charges\",\n",
    "                                         zerolinewidth=1,ticklen=5,gridwidth=2),\n",
    "                            height = 600\n",
    "                           )\n",
    "                      )\n",
    "    return layout\n",
    "\n",
    "layout1  = layout_title(\"Monthly Charges & Total Charges by Tenure group\")\n",
    "layout2  = layout_title(\"Monthly Charges & Total Charges by Churn group\")\n",
    "fig1 = go.Figure(data = data1,layout = layout1)\n",
    "fig2 = go.Figure(data = data2,layout = layout2)\n",
    "py.iplot(fig1)\n",
    "py.iplot(fig2)"
   ]
  },
  {
   "cell_type": "markdown",
   "metadata": {
    "_uuid": "633be2cff456e1c2426e4659a4edccb786d4b563"
   },
   "source": [
    "## <a id='3.5'>3.5. Average Charges by tenure groups</a>"
   ]
  },
  {
   "cell_type": "code",
   "execution_count": null,
   "metadata": {
    "_uuid": "9f5bfdefa74bc8cd062c353467635279c9d3236a"
   },
   "outputs": [],
   "source": [
    "avg_tgc = telcom.groupby([\"tenure_group\",\"Churn\"])[[\"MonthlyCharges\",\n",
    "                                                    \"TotalCharges\"]].mean().reset_index()\n",
    "\n",
    "#function for tracing \n",
    "def mean_charges(column,aggregate) :\n",
    "    tracer = go.Bar(x = avg_tgc[avg_tgc[\"Churn\"] == aggregate][\"tenure_group\"],\n",
    "                    y = avg_tgc[avg_tgc[\"Churn\"] == aggregate][column],\n",
    "                    name = aggregate,marker = dict(line = dict(width = 1)),\n",
    "                    text = \"Churn\"\n",
    "                   )\n",
    "    return tracer\n",
    "\n",
    "#function for layout\n",
    "def layout_plot(title,xaxis_lab,yaxis_lab) :\n",
    "    layout = go.Layout(dict(title = title,\n",
    "                            plot_bgcolor  = \"rgb(243,243,243)\",\n",
    "                            paper_bgcolor = \"rgb(243,243,243)\",\n",
    "                            xaxis = dict(gridcolor = 'rgb(255, 255, 255)',title = xaxis_lab,\n",
    "                                         zerolinewidth=1,ticklen=5,gridwidth=2),\n",
    "                            yaxis = dict(gridcolor = 'rgb(255, 255, 255)',title = yaxis_lab,\n",
    "                                         zerolinewidth=1,ticklen=5,gridwidth=2),\n",
    "                           )\n",
    "                      )\n",
    "    return layout\n",
    "    \n",
    "\n",
    "#plot1 - mean monthly charges by tenure groups\n",
    "trace1  = mean_charges(\"MonthlyCharges\",\"Yes\")\n",
    "trace2  = mean_charges(\"MonthlyCharges\",\"No\")\n",
    "layout1 = layout_plot(\"Average Monthly Charges by Tenure groups\",\n",
    "                      \"Tenure group\",\"Monthly Charges\")\n",
    "data1   = [trace1,trace2]\n",
    "fig1    = go.Figure(data=data1,layout=layout1)\n",
    "\n",
    "#plot2 - mean total charges by tenure groups\n",
    "trace3  = mean_charges(\"TotalCharges\",\"Yes\")\n",
    "trace4  = mean_charges(\"TotalCharges\",\"No\")\n",
    "layout2 = layout_plot(\"Average Total Charges by Tenure groups\",\n",
    "                      \"Tenure group\",\"Total Charges\")\n",
    "data2   = [trace3,trace4]\n",
    "fig2    = go.Figure(data=data2,layout=layout2)\n",
    "\n",
    "py.iplot(fig1)\n",
    "py.iplot(fig2)"
   ]
  },
  {
   "cell_type": "markdown",
   "metadata": {
    "_uuid": "e3cd2356bfb98d43703d4f3809e7d117f47d90c8"
   },
   "source": [
    "## <a id='3.6'>3.6. Monthly charges,total charges and tenure in customer attrition</a>"
   ]
  },
  {
   "cell_type": "code",
   "execution_count": null,
   "metadata": {
    "_uuid": "1271c61fb1d3ce099ee91372f5a4e0286196bb3f"
   },
   "outputs": [],
   "source": [
    "##copy data\n",
    "tel_df = telcom.copy()\n",
    "\n",
    "\n",
    "trace1 = go.Scatter3d(x = churn[\"MonthlyCharges\"],\n",
    "                      y = churn[\"TotalCharges\"],\n",
    "                      z = churn[\"tenure\"],\n",
    "                      mode = \"markers\",\n",
    "                      name = \"Churn customers\",\n",
    "                      text = \"Id : \" + churn[\"customerID\"],\n",
    "                      marker = dict(size = 1,color = \"red\")\n",
    "                     )\n",
    "trace2 = go.Scatter3d(x = not_churn[\"MonthlyCharges\"],\n",
    "                      y = not_churn[\"TotalCharges\"],\n",
    "                      z = not_churn[\"tenure\"],\n",
    "                      name = \"Non churn customers\",\n",
    "                      text = \"Id : \" + not_churn[\"customerID\"],\n",
    "                      mode = \"markers\",\n",
    "                      marker = dict(size = 1,color= \"green\")\n",
    "                     )\n",
    "\n",
    "\n",
    "\n",
    "layout = go.Layout(dict(title = \"Monthly charges,total charges & tenure in customer attrition\",\n",
    "                        scene = dict(camera = dict(up=dict(x= 0 , y=0, z=0),\n",
    "                                                   center=dict(x=0, y=0, z=0),\n",
    "                                                   eye=dict(x=1.25, y=1.25, z=1.25)),\n",
    "                                     xaxis  = dict(title = \"monthly charges\",\n",
    "                                                   gridcolor='rgb(255, 255, 255)',\n",
    "                                                   zerolinecolor='rgb(255, 255, 255)',\n",
    "                                                   showbackground=True,\n",
    "                                                   backgroundcolor='rgb(230, 230,230)'),\n",
    "                                     yaxis  = dict(title = \"total charges\",\n",
    "                                                   gridcolor='rgb(255, 255, 255)',\n",
    "                                                   zerolinecolor='rgb(255, 255, 255)',\n",
    "                                                   showbackground=True,\n",
    "                                                   backgroundcolor='rgb(230, 230,230)'\n",
    "                                                  ),\n",
    "                                     zaxis  = dict(title = \"tenure\",\n",
    "                                                   gridcolor='rgb(255, 255, 255)',\n",
    "                                                   zerolinecolor='rgb(255, 255, 255)',\n",
    "                                                   showbackground=True,\n",
    "                                                   backgroundcolor='rgb(230, 230,230)'\n",
    "                                                  )\n",
    "                                    ),\n",
    "                        height = 700,\n",
    "                       )\n",
    "                  )\n",
    "                  \n",
    "\n",
    "data = [trace1,trace2]\n",
    "fig  = go.Figure(data = data,layout = layout)\n",
    "py.iplot(fig)"
   ]
  },
  {
   "cell_type": "markdown",
   "metadata": {},
   "source": [
    "# <a id='3.5'> Discretization</a>"
   ]
  },
  {
   "cell_type": "code",
   "execution_count": 5,
   "metadata": {},
   "outputs": [
    {
     "data": {
      "text/plain": [
       "count    7032.000000\n",
       "mean       64.798208\n",
       "std        30.085974\n",
       "min        18.250000\n",
       "25%        35.587500\n",
       "50%        70.350000\n",
       "75%        89.862500\n",
       "max       118.750000\n",
       "Name: MonthlyCharges, dtype: float64"
      ]
     },
     "execution_count": 5,
     "metadata": {},
     "output_type": "execute_result"
    }
   ],
   "source": [
    "from sklearn.preprocessing import KBinsDiscretizer\n",
    "\n",
    "#show distribution without binning\n",
    "telcom[\"MonthlyCharges\"].describe()"
   ]
  },
  {
   "cell_type": "code",
   "execution_count": 6,
   "metadata": {},
   "outputs": [
    {
     "data": {
      "text/plain": [
       "<matplotlib.axes._subplots.AxesSubplot at 0x1be1292e248>"
      ]
     },
     "execution_count": 6,
     "metadata": {},
     "output_type": "execute_result"
    },
    {
     "data": {
      "image/png": "[encoded data removed]",
      "text/plain": [
       "<Figure size 432x288 with 1 Axes>"
      ]
     },
     "metadata": {
      "needs_background": "light"
     },
     "output_type": "display_data"
    }
   ],
   "source": [
    "sns.distplot(telcom[\"MonthlyCharges\"])"
   ]
  },
  {
   "cell_type": "code",
   "execution_count": 7,
   "metadata": {},
   "outputs": [
    {
     "data": {
      "text/plain": [
       "count    7032.000000\n",
       "mean     2283.300441\n",
       "std      2266.771362\n",
       "min        18.800000\n",
       "25%       401.450000\n",
       "50%      1397.475000\n",
       "75%      3794.737500\n",
       "max      8684.800000\n",
       "Name: TotalCharges, dtype: float64"
      ]
     },
     "execution_count": 7,
     "metadata": {},
     "output_type": "execute_result"
    }
   ],
   "source": [
    "telcom[\"TotalCharges\"].describe()"
   ]
  },
  {
   "cell_type": "code",
   "execution_count": 8,
   "metadata": {},
   "outputs": [
    {
     "data": {
      "image/png": "[encoded data removed]",
      "text/plain": [
       "<Figure size 432x288 with 1 Axes>"
      ]
     },
     "metadata": {
      "needs_background": "light"
     },
     "output_type": "display_data"
    }
   ],
   "source": [
    "sns.distplot(telcom[\"TotalCharges\"]);"
   ]
  },
  {
   "cell_type": "code",
   "execution_count": 9,
   "metadata": {},
   "outputs": [],
   "source": [
    "# #show distribution with binning\n",
    "# enc = KBinsDiscretizer(n_bins=10, encode='onehot')\n",
    "# X_binned = enc.fit_transform(X)\n",
    "\n",
    "\n",
    "#MonthlyCharges to categorical column\n",
    "def mc_lab(telcom) :\n",
    "    if telcom[\"MonthlyCharges\"] <= 30 :\n",
    "        return \"MonthlyCharges_0-30\"\n",
    "    elif (telcom[\"MonthlyCharges\"] > 30) & (telcom[\"MonthlyCharges\"] <= 60 ):\n",
    "        return \"MonthlyCharges_30-60\"\n",
    "    elif (telcom[\"MonthlyCharges\"] > 60) & (telcom[\"MonthlyCharges\"] <= 90) :\n",
    "        return \"MonthlyCharges_60-90\"\n",
    "    elif (telcom[\"MonthlyCharges\"] > 90) :\n",
    "        return \"MonthlyCharges_90-120\"\n",
    "\n",
    "telcom[\"mc_group\"] = telcom.apply(lambda telcom:mc_lab(telcom), axis = 1)\n",
    "\n",
    "#TotalCharges to categorical column\n",
    "def tc_lab(telcom) :\n",
    "    if telcom[\"TotalCharges\"] <= 400 :\n",
    "        return \"TotalCharges_0-400\"\n",
    "    elif (telcom[\"TotalCharges\"] > 400) & (telcom[\"TotalCharges\"] <= 1400 ):\n",
    "        return \"TotalCharges_400-1400\"\n",
    "    elif (telcom[\"TotalCharges\"] > 1400) & (telcom[\"TotalCharges\"] <= 4000) :\n",
    "        return \"TotalCharges_1400-4000\"\n",
    "    elif (telcom[\"TotalCharges\"] > 4000) :\n",
    "        return \"TotalCharges_4000-9000\"\n",
    "    \n",
    "telcom[\"tc_group\"] = telcom.apply(lambda telcom:tc_lab(telcom), axis = 1)"
   ]
  },
  {
   "cell_type": "code",
   "execution_count": 10,
   "metadata": {},
   "outputs": [
    {
     "data": {
      "text/html": [
       "<div>\n",
       "<style scoped>\n",
       "    .dataframe tbody tr th:only-of-type {\n",
       "        vertical-align: middle;\n",
       "    }\n",
       "\n",
       "    .dataframe tbody tr th {\n",
       "        vertical-align: top;\n",
       "    }\n",
       "\n",
       "    .dataframe thead th {\n",
       "        text-align: right;\n",
       "    }\n",
       "</style>\n",
       "<table border=\"1\" class=\"dataframe\">\n",
       "  <thead>\n",
       "    <tr style=\"text-align: right;\">\n",
       "      <th></th>\n",
       "      <th>MonthlyCharges</th>\n",
       "      <th>mc_group</th>\n",
       "      <th>TotalCharges</th>\n",
       "      <th>tc_group</th>\n",
       "    </tr>\n",
       "  </thead>\n",
       "  <tbody>\n",
       "    <tr>\n",
       "      <td>0</td>\n",
       "      <td>29.85</td>\n",
       "      <td>MonthlyCharges_0-30</td>\n",
       "      <td>29.85</td>\n",
       "      <td>TotalCharges_0-400</td>\n",
       "    </tr>\n",
       "    <tr>\n",
       "      <td>1</td>\n",
       "      <td>56.95</td>\n",
       "      <td>MonthlyCharges_30-60</td>\n",
       "      <td>1889.50</td>\n",
       "      <td>TotalCharges_1400-4000</td>\n",
       "    </tr>\n",
       "    <tr>\n",
       "      <td>2</td>\n",
       "      <td>53.85</td>\n",
       "      <td>MonthlyCharges_30-60</td>\n",
       "      <td>108.15</td>\n",
       "      <td>TotalCharges_0-400</td>\n",
       "    </tr>\n",
       "    <tr>\n",
       "      <td>3</td>\n",
       "      <td>42.30</td>\n",
       "      <td>MonthlyCharges_30-60</td>\n",
       "      <td>1840.75</td>\n",
       "      <td>TotalCharges_1400-4000</td>\n",
       "    </tr>\n",
       "    <tr>\n",
       "      <td>4</td>\n",
       "      <td>70.70</td>\n",
       "      <td>MonthlyCharges_60-90</td>\n",
       "      <td>151.65</td>\n",
       "      <td>TotalCharges_0-400</td>\n",
       "    </tr>\n",
       "    <tr>\n",
       "      <td>...</td>\n",
       "      <td>...</td>\n",
       "      <td>...</td>\n",
       "      <td>...</td>\n",
       "      <td>...</td>\n",
       "    </tr>\n",
       "    <tr>\n",
       "      <td>7027</td>\n",
       "      <td>84.80</td>\n",
       "      <td>MonthlyCharges_60-90</td>\n",
       "      <td>1990.50</td>\n",
       "      <td>TotalCharges_1400-4000</td>\n",
       "    </tr>\n",
       "    <tr>\n",
       "      <td>7028</td>\n",
       "      <td>103.20</td>\n",
       "      <td>MonthlyCharges_90-120</td>\n",
       "      <td>7362.90</td>\n",
       "      <td>TotalCharges_4000-9000</td>\n",
       "    </tr>\n",
       "    <tr>\n",
       "      <td>7029</td>\n",
       "      <td>29.60</td>\n",
       "      <td>MonthlyCharges_0-30</td>\n",
       "      <td>346.45</td>\n",
       "      <td>TotalCharges_0-400</td>\n",
       "    </tr>\n",
       "    <tr>\n",
       "      <td>7030</td>\n",
       "      <td>74.40</td>\n",
       "      <td>MonthlyCharges_60-90</td>\n",
       "      <td>306.60</td>\n",
       "      <td>TotalCharges_0-400</td>\n",
       "    </tr>\n",
       "    <tr>\n",
       "      <td>7031</td>\n",
       "      <td>105.65</td>\n",
       "      <td>MonthlyCharges_90-120</td>\n",
       "      <td>6844.50</td>\n",
       "      <td>TotalCharges_4000-9000</td>\n",
       "    </tr>\n",
       "  </tbody>\n",
       "</table>\n",
       "<p>7032 rows × 4 columns</p>\n",
       "</div>"
      ],
      "text/plain": [
       "      MonthlyCharges               mc_group  TotalCharges  \\\n",
       "0              29.85    MonthlyCharges_0-30         29.85   \n",
       "1              56.95   MonthlyCharges_30-60       1889.50   \n",
       "2              53.85   MonthlyCharges_30-60        108.15   \n",
       "3              42.30   MonthlyCharges_30-60       1840.75   \n",
       "4              70.70   MonthlyCharges_60-90        151.65   \n",
       "...              ...                    ...           ...   \n",
       "7027           84.80   MonthlyCharges_60-90       1990.50   \n",
       "7028          103.20  MonthlyCharges_90-120       7362.90   \n",
       "7029           29.60    MonthlyCharges_0-30        346.45   \n",
       "7030           74.40   MonthlyCharges_60-90        306.60   \n",
       "7031          105.65  MonthlyCharges_90-120       6844.50   \n",
       "\n",
       "                    tc_group  \n",
       "0         TotalCharges_0-400  \n",
       "1     TotalCharges_1400-4000  \n",
       "2         TotalCharges_0-400  \n",
       "3     TotalCharges_1400-4000  \n",
       "4         TotalCharges_0-400  \n",
       "...                      ...  \n",
       "7027  TotalCharges_1400-4000  \n",
       "7028  TotalCharges_4000-9000  \n",
       "7029      TotalCharges_0-400  \n",
       "7030      TotalCharges_0-400  \n",
       "7031  TotalCharges_4000-9000  \n",
       "\n",
       "[7032 rows x 4 columns]"
      ]
     },
     "execution_count": 10,
     "metadata": {},
     "output_type": "execute_result"
    }
   ],
   "source": [
    "telcom[[\"MonthlyCharges\", \"mc_group\",\"TotalCharges\", \"tc_group\" ]]"
   ]
  },
  {
   "cell_type": "markdown",
   "metadata": {
    "_uuid": "6dfa77b43fe1a1a301bab65186c2a9f90245ab7d"
   },
   "source": [
    "# <a id='4'>4. Data preprocessing</a>"
   ]
  },
  {
   "cell_type": "code",
   "execution_count": 12,
   "metadata": {
    "_uuid": "8921591320c5e336ec5a2e1efc5ed3cb0f9ec1b2"
   },
   "outputs": [],
   "source": [
    "from sklearn.preprocessing import LabelEncoder\n",
    "from sklearn.preprocessing import StandardScaler\n",
    "\n",
    "#customer id col\n",
    "Id_col     = ['customerID']\n",
    "#Target columns\n",
    "target_col = [\"Churn\"]\n",
    "#categorical columns\n",
    "cat_cols   = telcom.nunique()[telcom.nunique() < 6].keys().tolist()\n",
    "cat_cols   = [x for x in cat_cols if x not in target_col]\n",
    "#numerical columns\n",
    "# num_cols   = [x for x in telcom.columns if x not in cat_cols + target_col + Id_col]\n",
    "#Binary columns with 2 values\n",
    "bin_cols   = telcom.nunique()[telcom.nunique() == 2].keys().tolist()\n",
    "#Columns more than 2 values\n",
    "multi_cols = [i for i in cat_cols if i not in bin_cols]\n",
    "\n",
    "#Label encoding Binary columns\n",
    "le = LabelEncoder()\n",
    "for i in bin_cols :\n",
    "    telcom[i] = le.fit_transform(telcom[i])\n",
    "    \n",
    "#Duplicating columns for multi value columns\n",
    "telcom = pd.get_dummies(data = telcom,columns = multi_cols )\n",
    "\n",
    "# #Scaling Numerical columns\n",
    "# std = StandardScaler()\n",
    "# scaled = std.fit_transform(telcom[num_cols])\n",
    "# scaled = pd.DataFrame(scaled,columns=num_cols)\n",
    "\n",
    "#dropping original values merging scaled values for numerical columns\n",
    "df_telcom_og = telcom.copy()\n",
    "# telcom = telcom.drop(columns = num_cols,axis = 1)\n",
    "# telcom = telcom.merge(scaled,left_index=True,right_index=True,how = \"left\")\n",
    "\n",
    "telcom.drop(['MonthlyCharges', 'TotalCharges','tenure'], axis=1, inplace=True)\n"
   ]
  },
  {
   "cell_type": "markdown",
   "metadata": {
    "_uuid": "9ec25cff71c0eb0f0c839a726cb06cb43462a53f"
   },
   "source": [
    "## <a id='3.7'>3.7. Variable Summary</a>"
   ]
  },
  {
   "cell_type": "code",
   "execution_count": 13,
   "metadata": {
    "_uuid": "9f1fbaf6d979c28b6f763eb398e4cdd2091fc37b"
   },
   "outputs": [
    {
     "data": {
      "application/vnd.plotly.v1+json": {
       "config": {
        "linkText": "Export to plot.ly",
        "plotlyServerURL": "https://plot.ly",
        "showLink": false
       },
       "data": [
        {
         "cells": {
          "fill": {
           "color": [
            "lightgrey",
            "#F5F8FF"
           ]
          },
          "line": {
           "color": [
            "#506784"
           ]
          },
          "values": [
           [
            "gender",
            "SeniorCitizen",
            "Partner",
            "Dependents",
            "tenure",
            "PhoneService",
            "OnlineSecurity",
            "OnlineBackup",
            "DeviceProtection",
            "TechSupport",
            "StreamingTV",
            "StreamingMovies",
            "PaperlessBilling",
            "MonthlyCharges",
            "TotalCharges",
            "Churn",
            "MultipleLines_No",
            "MultipleLines_No phone service",
            "MultipleLines_Yes",
            "InternetService_DSL",
            "InternetService_Fiber optic",
            "InternetService_No",
            "Contract_Month-to-month",
            "Contract_One year",
            "Contract_Two year",
            "PaymentMethod_Bank transfer (automatic)",
            "PaymentMethod_Credit card (automatic)",
            "PaymentMethod_Electronic check",
            "PaymentMethod_Mailed check",
            "tenure_group_Tenure_0-12",
            "tenure_group_Tenure_12-24",
            "tenure_group_Tenure_24-48",
            "tenure_group_Tenure_48-60",
            "tenure_group_Tenure_gt_60",
            "mc_group_MonthlyCharges_0-30",
            "mc_group_MonthlyCharges_30-60",
            "mc_group_MonthlyCharges_60-90",
            "mc_group_MonthlyCharges_90-120",
            "tc_group_TotalCharges_0-400",
            "tc_group_TotalCharges_1400-4000",
            "tc_group_TotalCharges_400-1400",
            "tc_group_TotalCharges_4000-9000"
           ],
           [
            7032,
            7032,
            7032,
            7032,
            7032,
            7032,
            7032,
            7032,
            7032,
            7032,
            7032,
            7032,
            7032,
            7032,
            7032,
            7032,
            7032,
            7032,
            7032,
            7032,
            7032,
            7032,
            7032,
            7032,
            7032,
            7032,
            7032,
            7032,
            7032,
            7032,
            7032,
            7032,
            7032,
            7032,
            7032,
            7032,
            7032,
            7032,
            7032,
            7032,
            7032,
            7032
           ],
           [
            0.505,
            0.162,
            0.483,
            0.298,
            32.422,
            0.903,
            0.287,
            0.345,
            0.344,
            0.29,
            0.384,
            0.388,
            0.593,
            64.798,
            2283.3,
            0.266,
            0.481,
            0.097,
            0.422,
            0.344,
            0.44,
            0.216,
            0.551,
            0.209,
            0.24,
            0.219,
            0.216,
            0.336,
            0.228,
            0.309,
            0.146,
            0.227,
            0.118,
            0.2,
            0.234,
            0.18,
            0.339,
            0.247,
            0.25,
            0.265,
            0.251,
            0.234
           ],
           [
            0.5,
            0.369,
            0.5,
            0.458,
            24.545,
            0.296,
            0.452,
            0.475,
            0.475,
            0.454,
            0.486,
            0.487,
            0.491,
            30.086,
            2266.771,
            0.442,
            0.5,
            0.296,
            0.494,
            0.475,
            0.496,
            0.412,
            0.497,
            0.407,
            0.427,
            0.414,
            0.412,
            0.472,
            0.42,
            0.462,
            0.353,
            0.419,
            0.323,
            0.4,
            0.424,
            0.384,
            0.473,
            0.431,
            0.433,
            0.441,
            0.434,
            0.424
           ],
           [
            0,
            0,
            0,
            0,
            1,
            0,
            0,
            0,
            0,
            0,
            0,
            0,
            0,
            18.25,
            18.8,
            0,
            0,
            0,
            0,
            0,
            0,
            0,
            0,
            0,
            0,
            0,
            0,
            0,
            0,
            0,
            0,
            0,
            0,
            0,
            0,
            0,
            0,
            0,
            0,
            0,
            0,
            0
           ],
           [
            0,
            0,
            0,
            0,
            9,
            1,
            0,
            0,
            0,
            0,
            0,
            0,
            0,
            35.588,
            401.45,
            0,
            0,
            0,
            0,
            0,
            0,
            0,
            0,
            0,
            0,
            0,
            0,
            0,
            0,
            0,
            0,
            0,
            0,
            0,
            0,
            0,
            0,
            0,
            0,
            0,
            0,
            0
           ],
           [
            1,
            0,
            0,
            0,
            29,
            1,
            0,
            0,
            0,
            0,
            0,
            0,
            1,
            70.35,
            1397.475,
            0,
            0,
            0,
            0,
            0,
            0,
            0,
            1,
            0,
            0,
            0,
            0,
            0,
            0,
            0,
            0,
            0,
            0,
            0,
            0,
            0,
            0,
            0,
            0,
            0,
            0,
            0
           ],
           [
            1,
            0,
            1,
            1,
            55,
            1,
            1,
            1,
            1,
            1,
            1,
            1,
            1,
            89.862,
            3794.738,
            1,
            1,
            0,
            1,
            1,
            1,
            0,
            1,
            0,
            0,
            0,
            0,
            1,
            0,
            1,
            0,
            0,
            0,
            0,
            0,
            0,
            1,
            0,
            0,
            1,
            1,
            0
           ],
           [
            1,
            1,
            1,
            1,
            72,
            1,
            1,
            1,
            1,
            1,
            1,
            1,
            1,
            118.75,
            8684.8,
            1,
            1,
            1,
            1,
            1,
            1,
            1,
            1,
            1,
            1,
            1,
            1,
            1,
            1,
            1,
            1,
            1,
            1,
            1,
            1,
            1,
            1,
            1,
            1,
            1,
            1,
            1
           ]
          ]
         },
         "columnwidth": [
          200,
          60,
          100,
          100,
          60,
          60,
          80,
          80,
          80
         ],
         "header": {
          "fill": {
           "color": [
            "#119DFF"
           ]
          },
          "line": {
           "color": [
            "#506784"
           ]
          },
          "values": [
           "feature",
           "count",
           "mean",
           "std",
           "min",
           "25%",
           "50%",
           "75%",
           "max"
          ]
         },
         "type": "table"
        }
       ],
       "layout": {
        "template": {
         "data": {
          "bar": [
           {
            "error_x": {
             "color": "#2a3f5f"
            },
            "error_y": {
             "color": "#2a3f5f"
            },
            "marker": {
             "line": {
              "color": "#E5ECF6",
              "width": 0.5
             }
            },
            "type": "bar"
           }
          ],
          "barpolar": [
           {
            "marker": {
             "line": {
              "color": "#E5ECF6",
              "width": 0.5
             }
            },
            "type": "barpolar"
           }
          ],
          "carpet": [
           {
            "aaxis": {
             "endlinecolor": "#2a3f5f",
             "gridcolor": "white",
             "linecolor": "white",
             "minorgridcolor": "white",
             "startlinecolor": "#2a3f5f"
            },
            "baxis": {
             "endlinecolor": "#2a3f5f",
             "gridcolor": "white",
             "linecolor": "white",
             "minorgridcolor": "white",
             "startlinecolor": "#2a3f5f"
            },
            "type": "carpet"
           }
          ],
          "choropleth": [
           {
            "colorbar": {
             "outlinewidth": 0,
             "ticks": ""
            },
            "type": "choropleth"
           }
          ],
          "contour": [
           {
            "colorbar": {
             "outlinewidth": 0,
             "ticks": ""
            },
            "colorscale": [
             [
              0,
              "#0d0887"
             ],
             [
              0.1111111111111111,
              "#46039f"
             ],
             [
              0.2222222222222222,
              "#7201a8"
             ],
             [
              0.3333333333333333,
              "#9c179e"
             ],
             [
              0.4444444444444444,
              "#bd3786"
             ],
             [
              0.5555555555555556,
              "#d8576b"
             ],
             [
              0.6666666666666666,
              "#ed7953"
             ],
             [
              0.7777777777777778,
              "#fb9f3a"
             ],
             [
              0.8888888888888888,
              "#fdca26"
             ],
             [
              1,
              "#f0f921"
             ]
            ],
            "type": "contour"
           }
          ],
          "contourcarpet": [
           {
            "colorbar": {
             "outlinewidth": 0,
             "ticks": ""
            },
            "type": "contourcarpet"
           }
          ],
          "heatmap": [
           {
            "colorbar": {
             "outlinewidth": 0,
             "ticks": ""
            },
            "colorscale": [
             [
              0,
              "#0d0887"
             ],
             [
              0.1111111111111111,
              "#46039f"
             ],
             [
              0.2222222222222222,
              "#7201a8"
             ],
             [
              0.3333333333333333,
              "#9c179e"
             ],
             [
              0.4444444444444444,
              "#bd3786"
             ],
             [
              0.5555555555555556,
              "#d8576b"
             ],
             [
              0.6666666666666666,
              "#ed7953"
             ],
             [
              0.7777777777777778,
              "#fb9f3a"
             ],
             [
              0.8888888888888888,
              "#fdca26"
             ],
             [
              1,
              "#f0f921"
             ]
            ],
            "type": "heatmap"
           }
          ],
          "heatmapgl": [
           {
            "colorbar": {
             "outlinewidth": 0,
             "ticks": ""
            },
            "colorscale": [
             [
              0,
              "#0d0887"
             ],
             [
              0.1111111111111111,
              "#46039f"
             ],
             [
              0.2222222222222222,
              "#7201a8"
             ],
             [
              0.3333333333333333,
              "#9c179e"
             ],
             [
              0.4444444444444444,
              "#bd3786"
             ],
             [
              0.5555555555555556,
              "#d8576b"
             ],
             [
              0.6666666666666666,
              "#ed7953"
             ],
             [
              0.7777777777777778,
              "#fb9f3a"
             ],
             [
              0.8888888888888888,
              "#fdca26"
             ],
             [
              1,
              "#f0f921"
             ]
            ],
            "type": "heatmapgl"
           }
          ],
          "histogram": [
           {
            "marker": {
             "colorbar": {
              "outlinewidth": 0,
              "ticks": ""
             }
            },
            "type": "histogram"
           }
          ],
          "histogram2d": [
           {
            "colorbar": {
             "outlinewidth": 0,
             "ticks": ""
            },
            "colorscale": [
             [
              0,
              "#0d0887"
             ],
             [
              0.1111111111111111,
              "#46039f"
             ],
             [
              0.2222222222222222,
              "#7201a8"
             ],
             [
              0.3333333333333333,
              "#9c179e"
             ],
             [
              0.4444444444444444,
              "#bd3786"
             ],
             [
              0.5555555555555556,
              "#d8576b"
             ],
             [
              0.6666666666666666,
              "#ed7953"
             ],
             [
              0.7777777777777778,
              "#fb9f3a"
             ],
             [
              0.8888888888888888,
              "#fdca26"
             ],
             [
              1,
              "#f0f921"
             ]
            ],
            "type": "histogram2d"
           }
          ],
          "histogram2dcontour": [
           {
            "colorbar": {
             "outlinewidth": 0,
             "ticks": ""
            },
            "colorscale": [
             [
              0,
              "#0d0887"
             ],
             [
              0.1111111111111111,
              "#46039f"
             ],
             [
              0.2222222222222222,
              "#7201a8"
             ],
             [
              0.3333333333333333,
              "#9c179e"
             ],
             [
              0.4444444444444444,
              "#bd3786"
             ],
             [
              0.5555555555555556,
              "#d8576b"
             ],
             [
              0.6666666666666666,
              "#ed7953"
             ],
             [
              0.7777777777777778,
              "#fb9f3a"
             ],
             [
              0.8888888888888888,
              "#fdca26"
             ],
             [
              1,
              "#f0f921"
             ]
            ],
            "type": "histogram2dcontour"
           }
          ],
          "mesh3d": [
           {
            "colorbar": {
             "outlinewidth": 0,
             "ticks": ""
            },
            "type": "mesh3d"
           }
          ],
          "parcoords": [
           {
            "line": {
             "colorbar": {
              "outlinewidth": 0,
              "ticks": ""
             }
            },
            "type": "parcoords"
           }
          ],
          "pie": [
           {
            "automargin": true,
            "type": "pie"
           }
          ],
          "scatter": [
           {
            "marker": {
             "colorbar": {
              "outlinewidth": 0,
              "ticks": ""
             }
            },
            "type": "scatter"
           }
          ],
          "scatter3d": [
           {
            "line": {
             "colorbar": {
              "outlinewidth": 0,
              "ticks": ""
             }
            },
            "marker": {
             "colorbar": {
              "outlinewidth": 0,
              "ticks": ""
             }
            },
            "type": "scatter3d"
           }
          ],
          "scattercarpet": [
           {
            "marker": {
             "colorbar": {
              "outlinewidth": 0,
              "ticks": ""
             }
            },
            "type": "scattercarpet"
           }
          ],
          "scattergeo": [
           {
            "marker": {
             "colorbar": {
              "outlinewidth": 0,
              "ticks": ""
             }
            },
            "type": "scattergeo"
           }
          ],
          "scattergl": [
           {
            "marker": {
             "colorbar": {
              "outlinewidth": 0,
              "ticks": ""
             }
            },
            "type": "scattergl"
           }
          ],
          "scattermapbox": [
           {
            "marker": {
             "colorbar": {
              "outlinewidth": 0,
              "ticks": ""
             }
            },
            "type": "scattermapbox"
           }
          ],
          "scatterpolar": [
           {
            "marker": {
             "colorbar": {
              "outlinewidth": 0,
              "ticks": ""
             }
            },
            "type": "scatterpolar"
           }
          ],
          "scatterpolargl": [
           {
            "marker": {
             "colorbar": {
              "outlinewidth": 0,
              "ticks": ""
             }
            },
            "type": "scatterpolargl"
           }
          ],
          "scatterternary": [
           {
            "marker": {
             "colorbar": {
              "outlinewidth": 0,
              "ticks": ""
             }
            },
            "type": "scatterternary"
           }
          ],
          "surface": [
           {
            "colorbar": {
             "outlinewidth": 0,
             "ticks": ""
            },
            "colorscale": [
             [
              0,
              "#0d0887"
             ],
             [
              0.1111111111111111,
              "#46039f"
             ],
             [
              0.2222222222222222,
              "#7201a8"
             ],
             [
              0.3333333333333333,
              "#9c179e"
             ],
             [
              0.4444444444444444,
              "#bd3786"
             ],
             [
              0.5555555555555556,
              "#d8576b"
             ],
             [
              0.6666666666666666,
              "#ed7953"
             ],
             [
              0.7777777777777778,
              "#fb9f3a"
             ],
             [
              0.8888888888888888,
              "#fdca26"
             ],
             [
              1,
              "#f0f921"
             ]
            ],
            "type": "surface"
           }
          ],
          "table": [
           {
            "cells": {
             "fill": {
              "color": "#EBF0F8"
             },
             "line": {
              "color": "white"
             }
            },
            "header": {
             "fill": {
              "color": "#C8D4E3"
             },
             "line": {
              "color": "white"
             }
            },
            "type": "table"
           }
          ]
         },
         "layout": {
          "annotationdefaults": {
           "arrowcolor": "#2a3f5f",
           "arrowhead": 0,
           "arrowwidth": 1
          },
          "coloraxis": {
           "colorbar": {
            "outlinewidth": 0,
            "ticks": ""
           }
          },
          "colorscale": {
           "diverging": [
            [
             0,
             "#8e0152"
            ],
            [
             0.1,
             "#c51b7d"
            ],
            [
             0.2,
             "#de77ae"
            ],
            [
             0.3,
             "#f1b6da"
            ],
            [
             0.4,
             "#fde0ef"
            ],
            [
             0.5,
             "#f7f7f7"
            ],
            [
             0.6,
             "#e6f5d0"
            ],
            [
             0.7,
             "#b8e186"
            ],
            [
             0.8,
             "#7fbc41"
            ],
            [
             0.9,
             "#4d9221"
            ],
            [
             1,
             "#276419"
            ]
           ],
           "sequential": [
            [
             0,
             "#0d0887"
            ],
            [
             0.1111111111111111,
             "#46039f"
            ],
            [
             0.2222222222222222,
             "#7201a8"
            ],
            [
             0.3333333333333333,
             "#9c179e"
            ],
            [
             0.4444444444444444,
             "#bd3786"
            ],
            [
             0.5555555555555556,
             "#d8576b"
            ],
            [
             0.6666666666666666,
             "#ed7953"
            ],
            [
             0.7777777777777778,
             "#fb9f3a"
            ],
            [
             0.8888888888888888,
             "#fdca26"
            ],
            [
             1,
             "#f0f921"
            ]
           ],
           "sequentialminus": [
            [
             0,
             "#0d0887"
            ],
            [
             0.1111111111111111,
             "#46039f"
            ],
            [
             0.2222222222222222,
             "#7201a8"
            ],
            [
             0.3333333333333333,
             "#9c179e"
            ],
            [
             0.4444444444444444,
             "#bd3786"
            ],
            [
             0.5555555555555556,
             "#d8576b"
            ],
            [
             0.6666666666666666,
             "#ed7953"
            ],
            [
             0.7777777777777778,
             "#fb9f3a"
            ],
            [
             0.8888888888888888,
             "#fdca26"
            ],
            [
             1,
             "#f0f921"
            ]
           ]
          },
          "colorway": [
           "#636efa",
           "#EF553B",
           "#00cc96",
           "#ab63fa",
           "#FFA15A",
           "#19d3f3",
           "#FF6692",
           "#B6E880",
           "#FF97FF",
           "#FECB52"
          ],
          "font": {
           "color": "#2a3f5f"
          },
          "geo": {
           "bgcolor": "white",
           "lakecolor": "white",
           "landcolor": "#E5ECF6",
           "showlakes": true,
           "showland": true,
           "subunitcolor": "white"
          },
          "hoverlabel": {
           "align": "left"
          },
          "hovermode": "closest",
          "mapbox": {
           "style": "light"
          },
          "paper_bgcolor": "white",
          "plot_bgcolor": "#E5ECF6",
          "polar": {
           "angularaxis": {
            "gridcolor": "white",
            "linecolor": "white",
            "ticks": ""
           },
           "bgcolor": "#E5ECF6",
           "radialaxis": {
            "gridcolor": "white",
            "linecolor": "white",
            "ticks": ""
           }
          },
          "scene": {
           "xaxis": {
            "backgroundcolor": "#E5ECF6",
            "gridcolor": "white",
            "gridwidth": 2,
            "linecolor": "white",
            "showbackground": true,
            "ticks": "",
            "zerolinecolor": "white"
           },
           "yaxis": {
            "backgroundcolor": "#E5ECF6",
            "gridcolor": "white",
            "gridwidth": 2,
            "linecolor": "white",
            "showbackground": true,
            "ticks": "",
            "zerolinecolor": "white"
           },
           "zaxis": {
            "backgroundcolor": "#E5ECF6",
            "gridcolor": "white",
            "gridwidth": 2,
            "linecolor": "white",
            "showbackground": true,
            "ticks": "",
            "zerolinecolor": "white"
           }
          },
          "shapedefaults": {
           "line": {
            "color": "#2a3f5f"
           }
          },
          "ternary": {
           "aaxis": {
            "gridcolor": "white",
            "linecolor": "white",
            "ticks": ""
           },
           "baxis": {
            "gridcolor": "white",
            "linecolor": "white",
            "ticks": ""
           },
           "bgcolor": "#E5ECF6",
           "caxis": {
            "gridcolor": "white",
            "linecolor": "white",
            "ticks": ""
           }
          },
          "title": {
           "x": 0.05
          },
          "xaxis": {
           "automargin": true,
           "gridcolor": "white",
           "linecolor": "white",
           "ticks": "",
           "title": {
            "standoff": 15
           },
           "zerolinecolor": "white",
           "zerolinewidth": 2
          },
          "yaxis": {
           "automargin": true,
           "gridcolor": "white",
           "linecolor": "white",
           "ticks": "",
           "title": {
            "standoff": 15
           },
           "zerolinecolor": "white",
           "zerolinewidth": 2
          }
         }
        },
        "title": {
         "text": "Variable Summary"
        }
       }
      },
      "text/html": [
       "<div>\n",
       "        \n",
       "        \n",
       "            <div id=\"2daafa64-7a9b-4355-a57d-cfef2b6bfe2f\" class=\"plotly-graph-div\" style=\"height:525px; width:100%;\"></div>\n",
       "            <script type=\"text/javascript\">\n",
       "                require([\"plotly\"], function(Plotly) {\n",
       "                    window.PLOTLYENV=window.PLOTLYENV || {};\n",
       "                    \n",
       "                if (document.getElementById(\"2daafa64-7a9b-4355-a57d-cfef2b6bfe2f\")) {\n",
       "                    Plotly.newPlot(\n",
       "                        '2daafa64-7a9b-4355-a57d-cfef2b6bfe2f',\n",
       "                        [{\"cells\": {\"fill\": {\"color\": [\"lightgrey\", \"#F5F8FF\"]}, \"line\": {\"color\": [\"#506784\"]}, \"values\": [[\"gender\", \"SeniorCitizen\", \"Partner\", \"Dependents\", \"tenure\", \"PhoneService\", \"OnlineSecurity\", \"OnlineBackup\", \"DeviceProtection\", \"TechSupport\", \"StreamingTV\", \"StreamingMovies\", \"PaperlessBilling\", \"MonthlyCharges\", \"TotalCharges\", \"Churn\", \"MultipleLines_No\", \"MultipleLines_No phone service\", \"MultipleLines_Yes\", \"InternetService_DSL\", \"InternetService_Fiber optic\", \"InternetService_No\", \"Contract_Month-to-month\", \"Contract_One year\", \"Contract_Two year\", \"PaymentMethod_Bank transfer (automatic)\", \"PaymentMethod_Credit card (automatic)\", \"PaymentMethod_Electronic check\", \"PaymentMethod_Mailed check\", \"tenure_group_Tenure_0-12\", \"tenure_group_Tenure_12-24\", \"tenure_group_Tenure_24-48\", \"tenure_group_Tenure_48-60\", \"tenure_group_Tenure_gt_60\", \"mc_group_MonthlyCharges_0-30\", \"mc_group_MonthlyCharges_30-60\", \"mc_group_MonthlyCharges_60-90\", \"mc_group_MonthlyCharges_90-120\", \"tc_group_TotalCharges_0-400\", \"tc_group_TotalCharges_1400-4000\", \"tc_group_TotalCharges_400-1400\", \"tc_group_TotalCharges_4000-9000\"], [7032.0, 7032.0, 7032.0, 7032.0, 7032.0, 7032.0, 7032.0, 7032.0, 7032.0, 7032.0, 7032.0, 7032.0, 7032.0, 7032.0, 7032.0, 7032.0, 7032.0, 7032.0, 7032.0, 7032.0, 7032.0, 7032.0, 7032.0, 7032.0, 7032.0, 7032.0, 7032.0, 7032.0, 7032.0, 7032.0, 7032.0, 7032.0, 7032.0, 7032.0, 7032.0, 7032.0, 7032.0, 7032.0, 7032.0, 7032.0, 7032.0, 7032.0], [0.505, 0.162, 0.483, 0.298, 32.422, 0.903, 0.287, 0.345, 0.344, 0.29, 0.384, 0.388, 0.593, 64.798, 2283.3, 0.266, 0.481, 0.097, 0.422, 0.344, 0.44, 0.216, 0.551, 0.209, 0.24, 0.219, 0.216, 0.336, 0.228, 0.309, 0.146, 0.227, 0.118, 0.2, 0.234, 0.18, 0.339, 0.247, 0.25, 0.265, 0.251, 0.234], [0.5, 0.369, 0.5, 0.458, 24.545, 0.296, 0.452, 0.475, 0.475, 0.454, 0.486, 0.487, 0.491, 30.086, 2266.771, 0.442, 0.5, 0.296, 0.494, 0.475, 0.496, 0.412, 0.497, 0.407, 0.427, 0.414, 0.412, 0.472, 0.42, 0.462, 0.353, 0.419, 0.323, 0.4, 0.424, 0.384, 0.473, 0.431, 0.433, 0.441, 0.434, 0.424], [0.0, 0.0, 0.0, 0.0, 1.0, 0.0, 0.0, 0.0, 0.0, 0.0, 0.0, 0.0, 0.0, 18.25, 18.8, 0.0, 0.0, 0.0, 0.0, 0.0, 0.0, 0.0, 0.0, 0.0, 0.0, 0.0, 0.0, 0.0, 0.0, 0.0, 0.0, 0.0, 0.0, 0.0, 0.0, 0.0, 0.0, 0.0, 0.0, 0.0, 0.0, 0.0], [0.0, 0.0, 0.0, 0.0, 9.0, 1.0, 0.0, 0.0, 0.0, 0.0, 0.0, 0.0, 0.0, 35.588, 401.45, 0.0, 0.0, 0.0, 0.0, 0.0, 0.0, 0.0, 0.0, 0.0, 0.0, 0.0, 0.0, 0.0, 0.0, 0.0, 0.0, 0.0, 0.0, 0.0, 0.0, 0.0, 0.0, 0.0, 0.0, 0.0, 0.0, 0.0], [1.0, 0.0, 0.0, 0.0, 29.0, 1.0, 0.0, 0.0, 0.0, 0.0, 0.0, 0.0, 1.0, 70.35, 1397.475, 0.0, 0.0, 0.0, 0.0, 0.0, 0.0, 0.0, 1.0, 0.0, 0.0, 0.0, 0.0, 0.0, 0.0, 0.0, 0.0, 0.0, 0.0, 0.0, 0.0, 0.0, 0.0, 0.0, 0.0, 0.0, 0.0, 0.0], [1.0, 0.0, 1.0, 1.0, 55.0, 1.0, 1.0, 1.0, 1.0, 1.0, 1.0, 1.0, 1.0, 89.862, 3794.738, 1.0, 1.0, 0.0, 1.0, 1.0, 1.0, 0.0, 1.0, 0.0, 0.0, 0.0, 0.0, 1.0, 0.0, 1.0, 0.0, 0.0, 0.0, 0.0, 0.0, 0.0, 1.0, 0.0, 0.0, 1.0, 1.0, 0.0], [1.0, 1.0, 1.0, 1.0, 72.0, 1.0, 1.0, 1.0, 1.0, 1.0, 1.0, 1.0, 1.0, 118.75, 8684.8, 1.0, 1.0, 1.0, 1.0, 1.0, 1.0, 1.0, 1.0, 1.0, 1.0, 1.0, 1.0, 1.0, 1.0, 1.0, 1.0, 1.0, 1.0, 1.0, 1.0, 1.0, 1.0, 1.0, 1.0, 1.0, 1.0, 1.0]]}, \"columnwidth\": [200, 60, 100, 100, 60, 60, 80, 80, 80], \"header\": {\"fill\": {\"color\": [\"#119DFF\"]}, \"line\": {\"color\": [\"#506784\"]}, \"values\": [\"feature\", \"count\", \"mean\", \"std\", \"min\", \"25%\", \"50%\", \"75%\", \"max\"]}, \"type\": \"table\"}],\n",
       "                        {\"template\": {\"data\": {\"bar\": [{\"error_x\": {\"color\": \"#2a3f5f\"}, \"error_y\": {\"color\": \"#2a3f5f\"}, \"marker\": {\"line\": {\"color\": \"#E5ECF6\", \"width\": 0.5}}, \"type\": \"bar\"}], \"barpolar\": [{\"marker\": {\"line\": {\"color\": \"#E5ECF6\", \"width\": 0.5}}, \"type\": \"barpolar\"}], \"carpet\": [{\"aaxis\": {\"endlinecolor\": \"#2a3f5f\", \"gridcolor\": \"white\", \"linecolor\": \"white\", \"minorgridcolor\": \"white\", \"startlinecolor\": \"#2a3f5f\"}, \"baxis\": {\"endlinecolor\": \"#2a3f5f\", \"gridcolor\": \"white\", \"linecolor\": \"white\", \"minorgridcolor\": \"white\", \"startlinecolor\": \"#2a3f5f\"}, \"type\": \"carpet\"}], \"choropleth\": [{\"colorbar\": {\"outlinewidth\": 0, \"ticks\": \"\"}, \"type\": \"choropleth\"}], \"contour\": [{\"colorbar\": {\"outlinewidth\": 0, \"ticks\": \"\"}, \"colorscale\": [[0.0, \"#0d0887\"], [0.1111111111111111, \"#46039f\"], [0.2222222222222222, \"#7201a8\"], [0.3333333333333333, \"#9c179e\"], [0.4444444444444444, \"#bd3786\"], [0.5555555555555556, \"#d8576b\"], [0.6666666666666666, \"#ed7953\"], [0.7777777777777778, \"#fb9f3a\"], [0.8888888888888888, \"#fdca26\"], [1.0, \"#f0f921\"]], \"type\": \"contour\"}], \"contourcarpet\": [{\"colorbar\": {\"outlinewidth\": 0, \"ticks\": \"\"}, \"type\": \"contourcarpet\"}], \"heatmap\": [{\"colorbar\": {\"outlinewidth\": 0, \"ticks\": \"\"}, \"colorscale\": [[0.0, \"#0d0887\"], [0.1111111111111111, \"#46039f\"], [0.2222222222222222, \"#7201a8\"], [0.3333333333333333, \"#9c179e\"], [0.4444444444444444, \"#bd3786\"], [0.5555555555555556, \"#d8576b\"], [0.6666666666666666, \"#ed7953\"], [0.7777777777777778, \"#fb9f3a\"], [0.8888888888888888, \"#fdca26\"], [1.0, \"#f0f921\"]], \"type\": \"heatmap\"}], \"heatmapgl\": [{\"colorbar\": {\"outlinewidth\": 0, \"ticks\": \"\"}, \"colorscale\": [[0.0, \"#0d0887\"], [0.1111111111111111, \"#46039f\"], [0.2222222222222222, \"#7201a8\"], [0.3333333333333333, \"#9c179e\"], [0.4444444444444444, \"#bd3786\"], [0.5555555555555556, \"#d8576b\"], [0.6666666666666666, \"#ed7953\"], [0.7777777777777778, \"#fb9f3a\"], [0.8888888888888888, \"#fdca26\"], [1.0, \"#f0f921\"]], \"type\": \"heatmapgl\"}], \"histogram\": [{\"marker\": {\"colorbar\": {\"outlinewidth\": 0, \"ticks\": \"\"}}, \"type\": \"histogram\"}], \"histogram2d\": [{\"colorbar\": {\"outlinewidth\": 0, \"ticks\": \"\"}, \"colorscale\": [[0.0, \"#0d0887\"], [0.1111111111111111, \"#46039f\"], [0.2222222222222222, \"#7201a8\"], [0.3333333333333333, \"#9c179e\"], [0.4444444444444444, \"#bd3786\"], [0.5555555555555556, \"#d8576b\"], [0.6666666666666666, \"#ed7953\"], [0.7777777777777778, \"#fb9f3a\"], [0.8888888888888888, \"#fdca26\"], [1.0, \"#f0f921\"]], \"type\": \"histogram2d\"}], \"histogram2dcontour\": [{\"colorbar\": {\"outlinewidth\": 0, \"ticks\": \"\"}, \"colorscale\": [[0.0, \"#0d0887\"], [0.1111111111111111, \"#46039f\"], [0.2222222222222222, \"#7201a8\"], [0.3333333333333333, \"#9c179e\"], [0.4444444444444444, \"#bd3786\"], [0.5555555555555556, \"#d8576b\"], [0.6666666666666666, \"#ed7953\"], [0.7777777777777778, \"#fb9f3a\"], [0.8888888888888888, \"#fdca26\"], [1.0, \"#f0f921\"]], \"type\": \"histogram2dcontour\"}], \"mesh3d\": [{\"colorbar\": {\"outlinewidth\": 0, \"ticks\": \"\"}, \"type\": \"mesh3d\"}], \"parcoords\": [{\"line\": {\"colorbar\": {\"outlinewidth\": 0, \"ticks\": \"\"}}, \"type\": \"parcoords\"}], \"pie\": [{\"automargin\": true, \"type\": \"pie\"}], \"scatter\": [{\"marker\": {\"colorbar\": {\"outlinewidth\": 0, \"ticks\": \"\"}}, \"type\": \"scatter\"}], \"scatter3d\": [{\"line\": {\"colorbar\": {\"outlinewidth\": 0, \"ticks\": \"\"}}, \"marker\": {\"colorbar\": {\"outlinewidth\": 0, \"ticks\": \"\"}}, \"type\": \"scatter3d\"}], \"scattercarpet\": [{\"marker\": {\"colorbar\": {\"outlinewidth\": 0, \"ticks\": \"\"}}, \"type\": \"scattercarpet\"}], \"scattergeo\": [{\"marker\": {\"colorbar\": {\"outlinewidth\": 0, \"ticks\": \"\"}}, \"type\": \"scattergeo\"}], \"scattergl\": [{\"marker\": {\"colorbar\": {\"outlinewidth\": 0, \"ticks\": \"\"}}, \"type\": \"scattergl\"}], \"scattermapbox\": [{\"marker\": {\"colorbar\": {\"outlinewidth\": 0, \"ticks\": \"\"}}, \"type\": \"scattermapbox\"}], \"scatterpolar\": [{\"marker\": {\"colorbar\": {\"outlinewidth\": 0, \"ticks\": \"\"}}, \"type\": \"scatterpolar\"}], \"scatterpolargl\": [{\"marker\": {\"colorbar\": {\"outlinewidth\": 0, \"ticks\": \"\"}}, \"type\": \"scatterpolargl\"}], \"scatterternary\": [{\"marker\": {\"colorbar\": {\"outlinewidth\": 0, \"ticks\": \"\"}}, \"type\": \"scatterternary\"}], \"surface\": [{\"colorbar\": {\"outlinewidth\": 0, \"ticks\": \"\"}, \"colorscale\": [[0.0, \"#0d0887\"], [0.1111111111111111, \"#46039f\"], [0.2222222222222222, \"#7201a8\"], [0.3333333333333333, \"#9c179e\"], [0.4444444444444444, \"#bd3786\"], [0.5555555555555556, \"#d8576b\"], [0.6666666666666666, \"#ed7953\"], [0.7777777777777778, \"#fb9f3a\"], [0.8888888888888888, \"#fdca26\"], [1.0, \"#f0f921\"]], \"type\": \"surface\"}], \"table\": [{\"cells\": {\"fill\": {\"color\": \"#EBF0F8\"}, \"line\": {\"color\": \"white\"}}, \"header\": {\"fill\": {\"color\": \"#C8D4E3\"}, \"line\": {\"color\": \"white\"}}, \"type\": \"table\"}]}, \"layout\": {\"annotationdefaults\": {\"arrowcolor\": \"#2a3f5f\", \"arrowhead\": 0, \"arrowwidth\": 1}, \"coloraxis\": {\"colorbar\": {\"outlinewidth\": 0, \"ticks\": \"\"}}, \"colorscale\": {\"diverging\": [[0, \"#8e0152\"], [0.1, \"#c51b7d\"], [0.2, \"#de77ae\"], [0.3, \"#f1b6da\"], [0.4, \"#fde0ef\"], [0.5, \"#f7f7f7\"], [0.6, \"#e6f5d0\"], [0.7, \"#b8e186\"], [0.8, \"#7fbc41\"], [0.9, \"#4d9221\"], [1, \"#276419\"]], \"sequential\": [[0.0, \"#0d0887\"], [0.1111111111111111, \"#46039f\"], [0.2222222222222222, \"#7201a8\"], [0.3333333333333333, \"#9c179e\"], [0.4444444444444444, \"#bd3786\"], [0.5555555555555556, \"#d8576b\"], [0.6666666666666666, \"#ed7953\"], [0.7777777777777778, \"#fb9f3a\"], [0.8888888888888888, \"#fdca26\"], [1.0, \"#f0f921\"]], \"sequentialminus\": [[0.0, \"#0d0887\"], [0.1111111111111111, \"#46039f\"], [0.2222222222222222, \"#7201a8\"], [0.3333333333333333, \"#9c179e\"], [0.4444444444444444, \"#bd3786\"], [0.5555555555555556, \"#d8576b\"], [0.6666666666666666, \"#ed7953\"], [0.7777777777777778, \"#fb9f3a\"], [0.8888888888888888, \"#fdca26\"], [1.0, \"#f0f921\"]]}, \"colorway\": [\"#636efa\", \"#EF553B\", \"#00cc96\", \"#ab63fa\", \"#FFA15A\", \"#19d3f3\", \"#FF6692\", \"#B6E880\", \"#FF97FF\", \"#FECB52\"], \"font\": {\"color\": \"#2a3f5f\"}, \"geo\": {\"bgcolor\": \"white\", \"lakecolor\": \"white\", \"landcolor\": \"#E5ECF6\", \"showlakes\": true, \"showland\": true, \"subunitcolor\": \"white\"}, \"hoverlabel\": {\"align\": \"left\"}, \"hovermode\": \"closest\", \"mapbox\": {\"style\": \"light\"}, \"paper_bgcolor\": \"white\", \"plot_bgcolor\": \"#E5ECF6\", \"polar\": {\"angularaxis\": {\"gridcolor\": \"white\", \"linecolor\": \"white\", \"ticks\": \"\"}, \"bgcolor\": \"#E5ECF6\", \"radialaxis\": {\"gridcolor\": \"white\", \"linecolor\": \"white\", \"ticks\": \"\"}}, \"scene\": {\"xaxis\": {\"backgroundcolor\": \"#E5ECF6\", \"gridcolor\": \"white\", \"gridwidth\": 2, \"linecolor\": \"white\", \"showbackground\": true, \"ticks\": \"\", \"zerolinecolor\": \"white\"}, \"yaxis\": {\"backgroundcolor\": \"#E5ECF6\", \"gridcolor\": \"white\", \"gridwidth\": 2, \"linecolor\": \"white\", \"showbackground\": true, \"ticks\": \"\", \"zerolinecolor\": \"white\"}, \"zaxis\": {\"backgroundcolor\": \"#E5ECF6\", \"gridcolor\": \"white\", \"gridwidth\": 2, \"linecolor\": \"white\", \"showbackground\": true, \"ticks\": \"\", \"zerolinecolor\": \"white\"}}, \"shapedefaults\": {\"line\": {\"color\": \"#2a3f5f\"}}, \"ternary\": {\"aaxis\": {\"gridcolor\": \"white\", \"linecolor\": \"white\", \"ticks\": \"\"}, \"baxis\": {\"gridcolor\": \"white\", \"linecolor\": \"white\", \"ticks\": \"\"}, \"bgcolor\": \"#E5ECF6\", \"caxis\": {\"gridcolor\": \"white\", \"linecolor\": \"white\", \"ticks\": \"\"}}, \"title\": {\"x\": 0.05}, \"xaxis\": {\"automargin\": true, \"gridcolor\": \"white\", \"linecolor\": \"white\", \"ticks\": \"\", \"title\": {\"standoff\": 15}, \"zerolinecolor\": \"white\", \"zerolinewidth\": 2}, \"yaxis\": {\"automargin\": true, \"gridcolor\": \"white\", \"linecolor\": \"white\", \"ticks\": \"\", \"title\": {\"standoff\": 15}, \"zerolinecolor\": \"white\", \"zerolinewidth\": 2}}}, \"title\": {\"text\": \"Variable Summary\"}},\n",
       "                        {\"responsive\": true}\n",
       "                    ).then(function(){\n",
       "                            \n",
       "var gd = document.getElementById('2daafa64-7a9b-4355-a57d-cfef2b6bfe2f');\n",
       "var x = new MutationObserver(function (mutations, observer) {{\n",
       "        var display = window.getComputedStyle(gd).display;\n",
       "        if (!display || display === 'none') {{\n",
       "            console.log([gd, 'removed!']);\n",
       "            Plotly.purge(gd);\n",
       "            observer.disconnect();\n",
       "        }}\n",
       "}});\n",
       "\n",
       "// Listen for the removal of the full notebook cells\n",
       "var notebookContainer = gd.closest('#notebook-container');\n",
       "if (notebookContainer) {{\n",
       "    x.observe(notebookContainer, {childList: true});\n",
       "}}\n",
       "\n",
       "// Listen for the clearing of the current output cell\n",
       "var outputEl = gd.closest('.output');\n",
       "if (outputEl) {{\n",
       "    x.observe(outputEl, {childList: true});\n",
       "}}\n",
       "\n",
       "                        })\n",
       "                };\n",
       "                });\n",
       "            </script>\n",
       "        </div>"
      ]
     },
     "metadata": {},
     "output_type": "display_data"
    }
   ],
   "source": [
    "summary = (df_telcom_og[[i for i in df_telcom_og.columns if i not in Id_col]].\n",
    "           describe().transpose().reset_index())\n",
    "\n",
    "summary = summary.rename(columns = {\"index\" : \"feature\"})\n",
    "summary = np.around(summary,3)\n",
    "\n",
    "val_lst = [summary['feature'], summary['count'],\n",
    "           summary['mean'],summary['std'],\n",
    "           summary['min'], summary['25%'],\n",
    "           summary['50%'], summary['75%'], summary['max']]\n",
    "\n",
    "trace  = go.Table(header = dict(values = summary.columns.tolist(),\n",
    "                                line = dict(color = ['#506784']),\n",
    "                                fill = dict(color = ['#119DFF']),\n",
    "                               ),\n",
    "                  cells  = dict(values = val_lst,\n",
    "                                line = dict(color = ['#506784']),\n",
    "                                fill = dict(color = [\"lightgrey\",'#F5F8FF'])\n",
    "                               ),\n",
    "                  columnwidth = [200,60,100,100,60,60,80,80,80])\n",
    "layout = go.Layout(dict(title = \"Variable Summary\"))\n",
    "figure = go.Figure(data=[trace],layout=layout)\n",
    "py.iplot(figure)\n"
   ]
  },
  {
   "cell_type": "markdown",
   "metadata": {
    "_uuid": "82a7617e37906622dbe00a1783a13cbf382d2513"
   },
   "source": [
    "## <a id='3.8'>3.8. Correlation Matrix</a>"
   ]
  },
  {
   "cell_type": "code",
   "execution_count": null,
   "metadata": {
    "_uuid": "b52cf9c7f402ed706e82221e3f8601fdeea9ab27"
   },
   "outputs": [],
   "source": [
    "#correlation\n",
    "correlation = telcom.corr()\n",
    "#tick labels\n",
    "matrix_cols = correlation.columns.tolist()\n",
    "#convert to array\n",
    "corr_array  = np.array(correlation)\n",
    "\n",
    "#Plotting\n",
    "trace = go.Heatmap(z = corr_array,\n",
    "                   x = matrix_cols,\n",
    "                   y = matrix_cols,\n",
    "                   colorscale = \"Viridis\",\n",
    "                   colorbar   = dict(title = \"Pearson Correlation coefficient\",\n",
    "                                     titleside = \"right\"\n",
    "                                    ) ,\n",
    "                  )\n",
    "\n",
    "layout = go.Layout(dict(title = \"Correlation Matrix for variables\",\n",
    "                        autosize = False,\n",
    "                        height  = 720,\n",
    "                        width   = 800,\n",
    "                        margin  = dict(r = 0 ,l = 210,\n",
    "                                       t = 25,b = 210,\n",
    "                                      ),\n",
    "                        yaxis   = dict(tickfont = dict(size = 9)),\n",
    "                        xaxis   = dict(tickfont = dict(size = 9))\n",
    "                       )\n",
    "                  )\n",
    "\n",
    "data = [trace]\n",
    "fig = go.Figure(data=data,layout=layout)\n",
    "py.iplot(fig)"
   ]
  },
  {
   "cell_type": "markdown",
   "metadata": {
    "_uuid": "abaf205d4be08b2b9951b1c1a878c6e387998abc"
   },
   "source": [
    "## <a id='3.9'>3.9. Visualising data with principal components</a>"
   ]
  },
  {
   "cell_type": "code",
   "execution_count": null,
   "metadata": {
    "_uuid": "60c93b7dc48f91fa850d163486f771072f506401",
    "scrolled": true
   },
   "outputs": [],
   "source": [
    "from sklearn.decomposition import PCA\n",
    "\n",
    "pca = PCA(n_components = 2)\n",
    "\n",
    "X = telcom[[i for i in telcom.columns if i not in Id_col + target_col]]\n",
    "Y = telcom[target_col + Id_col]\n",
    "\n",
    "principal_components = pca.fit_transform(X)\n",
    "pca_data = pd.DataFrame(principal_components,columns = [\"PC1\",\"PC2\"])\n",
    "pca_data = pca_data.merge(Y,left_index=True,right_index=True,how=\"left\")\n",
    "pca_data[\"Churn\"] = pca_data[\"Churn\"].replace({1:\"Churn\",0:\"Not Churn\"})\n",
    "\n",
    "def pca_scatter(target,color) :\n",
    "    tracer = go.Scatter(x = pca_data[pca_data[\"Churn\"] == target][\"PC1\"] ,\n",
    "                        y = pca_data[pca_data[\"Churn\"] == target][\"PC2\"],\n",
    "                        name = target,mode = \"markers\",\n",
    "                        marker = dict(color = color,\n",
    "                                      line = dict(width = .5),\n",
    "                                      symbol =  \"diamond-open\"),\n",
    "                        text = (\"Customer Id : \" + \n",
    "                                pca_data[pca_data[\"Churn\"] == target]['customerID'])\n",
    "                       )\n",
    "    return tracer\n",
    "\n",
    "layout = go.Layout(dict(title = \"Visualising data with principal components\",\n",
    "                        plot_bgcolor  = \"rgb(243,243,243)\",\n",
    "                        paper_bgcolor = \"rgb(243,243,243)\",\n",
    "                        xaxis = dict(gridcolor = 'rgb(255, 255, 255)',\n",
    "                                     title = \"principal component 1\",\n",
    "                                     zerolinewidth=1,ticklen=5,gridwidth=2),\n",
    "                        yaxis = dict(gridcolor = 'rgb(255, 255, 255)',\n",
    "                                     title = \"principal component 2\",\n",
    "                                     zerolinewidth=1,ticklen=5,gridwidth=2),\n",
    "                        height = 600\n",
    "                       )\n",
    "                  )\n",
    "trace1 = pca_scatter(\"Churn\",'red')\n",
    "trace2 = pca_scatter(\"Not Churn\",'royalblue')\n",
    "data = [trace2,trace1]\n",
    "fig = go.Figure(data=data,layout=layout)\n",
    "py.iplot(fig)"
   ]
  },
  {
   "cell_type": "code",
   "execution_count": null,
   "metadata": {},
   "outputs": [],
   "source": [
    "#Explained Variance\n",
    "pca.explained_variance_ratio_\n",
    "\n",
    "# first principal component contains 34.45% of the variance \n",
    "# and the second principal component contains 15.53% of the variance. \n",
    "# Together, the two components contain 49.98% of the information."
   ]
  },
  {
   "cell_type": "markdown",
   "metadata": {
    "_uuid": "a261b0d62fe4af69dc412143d6b4e019cd65963e"
   },
   "source": [
    "## <a id='3.10'>3.10. Binary variables distribution in customer attrition(Radar Chart)</a>"
   ]
  },
  {
   "cell_type": "code",
   "execution_count": null,
   "metadata": {
    "_uuid": "3a5c9e2edb9121a8db7e2b2d3f1ed23fc9983e9a"
   },
   "outputs": [],
   "source": [
    "#separating binary columns\n",
    "bi_cs = telcom.nunique()[telcom.nunique() == 2].keys()\n",
    "dat_rad = telcom[bi_cs]\n",
    "\n",
    "#plotting radar chart for churn and non churn customers(binary variables)\n",
    "def plot_radar(df,aggregate,title) :\n",
    "    data_frame = df[df[\"Churn\"] == aggregate] \n",
    "    data_frame_x = data_frame[bi_cs].sum().reset_index()\n",
    "    data_frame_x.columns  = [\"feature\",\"yes\"]\n",
    "    data_frame_x[\"no\"]    = data_frame.shape[0]  - data_frame_x[\"yes\"]\n",
    "    data_frame_x  = data_frame_x[data_frame_x[\"feature\"] != \"Churn\"]\n",
    "    \n",
    "    #count of 1's(yes)\n",
    "    trace1 = go.Scatterpolar(r = data_frame_x[\"yes\"].values.tolist(),\n",
    "                             theta = data_frame_x[\"feature\"].tolist(),\n",
    "                             fill  = \"toself\",name = \"count of 1's\",\n",
    "                             mode = \"markers+lines\",\n",
    "                             marker = dict(size = 5)\n",
    "                            )\n",
    "    #count of 0's(No)\n",
    "    trace2 = go.Scatterpolar(r = data_frame_x[\"no\"].values.tolist(),\n",
    "                             theta = data_frame_x[\"feature\"].tolist(),\n",
    "                             fill  = \"toself\",name = \"count of 0's\",\n",
    "                             mode = \"markers+lines\",\n",
    "                             marker = dict(size = 5)\n",
    "                            ) \n",
    "    layout = go.Layout(dict(polar = dict(radialaxis = dict(visible = True,\n",
    "                                                           side = \"counterclockwise\",\n",
    "                                                           showline = True,\n",
    "                                                           linewidth = 2,\n",
    "                                                           tickwidth = 2,\n",
    "                                                           gridcolor = \"white\",\n",
    "                                                           gridwidth = 2),\n",
    "                                         angularaxis = dict(tickfont = dict(size = 10),\n",
    "                                                            layer = \"below traces\"\n",
    "                                                           ),\n",
    "                                         bgcolor  = \"rgb(243,243,243)\",\n",
    "                                        ),\n",
    "                            paper_bgcolor = \"rgb(243,243,243)\",\n",
    "                            title = title,height = 700))\n",
    "    \n",
    "    data = [trace2,trace1]\n",
    "    fig = go.Figure(data=data,layout=layout)\n",
    "    py.iplot(fig)\n",
    "\n",
    "#plot\n",
    "plot_radar(dat_rad,1,\"Churn -  Customers\")\n",
    "plot_radar(dat_rad,0,\"Non Churn - Customers\")"
   ]
  },
  {
   "cell_type": "markdown",
   "metadata": {
    "_uuid": "f944336cbe67efb3422b79864d9478e2cfbdc860"
   },
   "source": [
    "# <a id='5'>5. Model Building</a>\n",
    "## <a id='5.1'>5.1. Baseline Model</a>"
   ]
  },
  {
   "cell_type": "code",
   "execution_count": null,
   "metadata": {
    "_kg_hide-input": false,
    "_uuid": "84038088d314f275c654021432f614ecf0b7914d"
   },
   "outputs": [],
   "source": [
    "from sklearn.model_selection import train_test_split\n",
    "from sklearn.linear_model import LogisticRegression\n",
    "from sklearn.metrics import confusion_matrix,accuracy_score,classification_report\n",
    "from sklearn.metrics import roc_auc_score,roc_curve,scorer\n",
    "from sklearn.metrics import f1_score\n",
    "import statsmodels.api as sm\n",
    "from sklearn.metrics import precision_score,recall_score\n",
    "from yellowbrick.classifier import DiscriminationThreshold\n",
    "#splitting train and test data \n",
    "train,test = train_test_split(telcom,test_size = .25 ,random_state = 111)\n",
    "    \n",
    "##seperating dependent and independent variables\n",
    "cols    = [i for i in telcom.columns if i not in Id_col + target_col]\n",
    "train_X = train[cols]\n",
    "train_Y = train[target_col]\n",
    "test_X  = test[cols]\n",
    "test_Y  = test[target_col]\n",
    "\n",
    "#Function attributes\n",
    "#dataframe     - processed dataframe\n",
    "#Algorithm     - Algorithm used \n",
    "#training_x    - predictor variables dataframe(training)\n",
    "#testing_x     - predictor variables dataframe(testing)\n",
    "#training_y    - target variable(training)\n",
    "#training_y    - target variable(testing)\n",
    "#cf - [\"coefficients\",\"features\"](cooefficients for logistic \n",
    "                                 #regression,features for tree based models)\n",
    "\n",
    "#threshold_plot - if True returns threshold plot for model\n",
    "    \n",
    "def telecom_churn_prediction(algorithm,training_x,testing_x,\n",
    "                             training_y,testing_y,cols,cf,threshold_plot) :\n",
    "    \n",
    "    #model\n",
    "    algorithm.fit(training_x,training_y)\n",
    "    predictions   = algorithm.predict(testing_x)\n",
    "    probabilities = algorithm.predict_proba(testing_x)\n",
    "    #coeffs\n",
    "    if   cf == \"coefficients\" :\n",
    "        coefficients  = pd.DataFrame(algorithm.coef_.ravel())\n",
    "    elif cf == \"features\" :\n",
    "        coefficients  = pd.DataFrame(algorithm.feature_importances_)\n",
    "        \n",
    "    column_df     = pd.DataFrame(cols)\n",
    "    coef_sumry    = (pd.merge(coefficients,column_df,left_index= True,\n",
    "                              right_index= True, how = \"left\"))\n",
    "    coef_sumry.columns = [\"coefficients\",\"features\"]\n",
    "    coef_sumry    = coef_sumry.sort_values(by = \"coefficients\",ascending = False)\n",
    "    \n",
    "    print (algorithm)\n",
    "    print (\"\\n Classification report : \\n\",classification_report(testing_y,predictions))\n",
    "    print (\"Accuracy   Score : \",accuracy_score(testing_y,predictions))\n",
    "    #confusion matrix\n",
    "    conf_matrix = confusion_matrix(testing_y,predictions)\n",
    "    #roc_auc_score\n",
    "    model_roc_auc = roc_auc_score(testing_y,predictions) \n",
    "    print (\"Area under curve : \",model_roc_auc,\"\\n\")\n",
    "    fpr,tpr,thresholds = roc_curve(testing_y,probabilities[:,1])\n",
    "    \n",
    "    #plot confusion matrix\n",
    "    trace1 = go.Heatmap(z = conf_matrix ,\n",
    "                        x = [\"Not churn\",\"Churn\"],\n",
    "                        y = [\"Not churn\",\"Churn\"],\n",
    "                        showscale  = False,colorscale = \"Picnic\",\n",
    "                        name = \"matrix\")\n",
    "    \n",
    "    #plot roc curve\n",
    "    trace2 = go.Scatter(x = fpr,y = tpr,\n",
    "                        name = \"Roc : \" + str(model_roc_auc),\n",
    "                        line = dict(color = ('rgb(22, 96, 167)'),width = 2))\n",
    "    trace3 = go.Scatter(x = [0,1],y=[0,1],\n",
    "                        line = dict(color = ('rgb(205, 12, 24)'),width = 2,\n",
    "                        dash = 'dot'))\n",
    "    \n",
    "    #plot coeffs\n",
    "    trace4 = go.Bar(x = coef_sumry[\"features\"],y = coef_sumry[\"coefficients\"],\n",
    "                    name = \"coefficients\",\n",
    "                    marker = dict(color = coef_sumry[\"coefficients\"],\n",
    "                                  colorscale = \"Picnic\",\n",
    "                                  line = dict(width = .6,color = \"black\")))\n",
    "    \n",
    "    #subplots\n",
    "    fig = tls.make_subplots(rows=2, cols=2, specs=[[{}, {}], [{'colspan': 2}, None]],\n",
    "                            subplot_titles=('Confusion Matrix',\n",
    "                                            'Receiver operating characteristic',\n",
    "                                            'Feature Importances'))\n",
    "    \n",
    "    fig.append_trace(trace1,1,1)\n",
    "    fig.append_trace(trace2,1,2)\n",
    "    fig.append_trace(trace3,1,2)\n",
    "    fig.append_trace(trace4,2,1)\n",
    "    \n",
    "    fig['layout'].update(showlegend=False, title=\"Model performance\" ,\n",
    "                         autosize = False,height = 900,width = 800,\n",
    "                         plot_bgcolor = 'rgba(240,240,240, 0.95)',\n",
    "                         paper_bgcolor = 'rgba(240,240,240, 0.95)',\n",
    "                         margin = dict(b = 195))\n",
    "    fig[\"layout\"][\"xaxis2\"].update(dict(title = \"false positive rate\"))\n",
    "    fig[\"layout\"][\"yaxis2\"].update(dict(title = \"true positive rate\"))\n",
    "    fig[\"layout\"][\"xaxis3\"].update(dict(showgrid = True,tickfont = dict(size = 10),\n",
    "                                        tickangle = 90))\n",
    "    py.iplot(fig)\n",
    "    \n",
    "    if threshold_plot == True : \n",
    "        visualizer = DiscriminationThreshold(algorithm)\n",
    "        visualizer.fit(training_x,training_y)\n",
    "        visualizer.poof()\n",
    "        \n",
    "logit  = LogisticRegression(C=1.0, class_weight=None, dual=False, fit_intercept=True,\n",
    "          intercept_scaling=1, max_iter=100, multi_class='ovr', n_jobs=1,\n",
    "          penalty='l2', random_state=None, solver='liblinear', tol=0.0001,\n",
    "          verbose=0, warm_start=False)\n",
    "\n",
    "telecom_churn_prediction(logit,train_X,test_X,train_Y,test_Y,\n",
    "                         cols,\"coefficients\",threshold_plot = True)"
   ]
  },
  {
   "cell_type": "markdown",
   "metadata": {
    "_uuid": "5d772699a8637e6e9e1a90f424db967b6ae3c12a"
   },
   "source": [
    "## <a id='5.2'>5.2. Synthetic Minority Oversampling TEchnique (SMOTE)</a>\n",
    "* Randomly pick a point from the minority class.\n",
    "* Compute the k-nearest neighbors (for some pre-specified k) for this point.\n",
    "* Add k new points somewhere between the chosen point and each of its neighbors"
   ]
  },
  {
   "cell_type": "code",
   "execution_count": null,
   "metadata": {
    "_uuid": "977d0eb5f44d745d2e54b9643df9c3bcf5d461f7"
   },
   "outputs": [],
   "source": [
    "from imblearn.over_sampling import SMOTE\n",
    "\n",
    "cols    = [i for i in telcom.columns if i not in Id_col+target_col]\n",
    "\n",
    "smote_X = telcom[cols]\n",
    "smote_Y = telcom[target_col]\n",
    "\n",
    "#Split train and test data\n",
    "smote_train_X,smote_test_X,smote_train_Y,smote_test_Y = train_test_split(smote_X,smote_Y,\n",
    "                                                                         test_size = .25 ,\n",
    "                                                                         random_state = 111)\n",
    "\n",
    "#oversampling minority class using smote\n",
    "os = SMOTE(random_state = 0)\n",
    "os_smote_X,os_smote_Y = os.fit_sample(smote_train_X,smote_train_Y)\n",
    "os_smote_X = pd.DataFrame(data = os_smote_X,columns=cols)\n",
    "os_smote_Y = pd.DataFrame(data = os_smote_Y,columns=target_col)\n",
    "###\n",
    "\n",
    "\n",
    "\n",
    "logit_smote = LogisticRegression(C=1.0, class_weight=None, dual=False, fit_intercept=True,\n",
    "          intercept_scaling=1, max_iter=100, multi_class='ovr', n_jobs=1,\n",
    "          penalty='l2', random_state=None, solver='liblinear', tol=0.0001,\n",
    "          verbose=0, warm_start=False)\n",
    "\n",
    "telecom_churn_prediction(logit_smote,os_smote_X,test_X,os_smote_Y,test_Y,\n",
    "                         cols,\"coefficients\",threshold_plot = True)\n"
   ]
  },
  {
   "cell_type": "markdown",
   "metadata": {
    "_uuid": "35f4bbedca5efb1ea70dfa71649cf36e5bdd6e86"
   },
   "source": [
    "## <a id='5.3'>5.3. Recursive Feature Elimination</a>\n",
    "Recursive Feature Elimination (RFE) is based on the idea to repeatedly construct a model and choose either the best or worst performing feature, setting the feature aside and then repeating the process with the rest of the features. This process is applied until all features in the dataset are exhausted. The goal of RFE is to select features by recursively considering smaller and smaller sets of features."
   ]
  },
  {
   "cell_type": "code",
   "execution_count": null,
   "metadata": {
    "_uuid": "a12d867c80eb421a8f97edc35417c53fef9243ed"
   },
   "outputs": [],
   "source": [
    "from sklearn.feature_selection import RFE\n",
    "\n",
    "logit = LogisticRegression()\n",
    "\n",
    "rfe = RFE(logit,10)\n",
    "rfe = rfe.fit(os_smote_X,os_smote_Y.values.ravel())\n",
    "\n",
    "rfe.support_\n",
    "rfe.ranking_\n",
    "\n",
    "#identified columns Recursive Feature Elimination\n",
    "idc_rfe = pd.DataFrame({\"rfe_support\" :rfe.support_,\n",
    "                       \"columns\" : [i for i in telcom.columns if i not in Id_col + target_col],\n",
    "                       \"ranking\" : rfe.ranking_,\n",
    "                      })\n",
    "cols = idc_rfe[idc_rfe[\"rfe_support\"] == True][\"columns\"].tolist()\n",
    "\n",
    "\n",
    "#separating train and test data\n",
    "train_rf_X = os_smote_X[cols]\n",
    "train_rf_Y = os_smote_Y\n",
    "test_rf_X  = test[cols]\n",
    "test_rf_Y  = test[target_col]\n",
    "\n",
    "logit_rfe = LogisticRegression(C=1.0, class_weight=None, dual=False, fit_intercept=True,\n",
    "          intercept_scaling=1, max_iter=100, multi_class='ovr', n_jobs=1,\n",
    "          penalty='l2', random_state=None, solver='liblinear', tol=0.0001,\n",
    "          verbose=0, warm_start=False)\n",
    "#applying model\n",
    "telecom_churn_prediction(logit_rfe,train_rf_X,test_rf_X,train_rf_Y,test_rf_Y,\n",
    "                         cols,\"coefficients\",threshold_plot = True)\n",
    "\n",
    "tab_rk = ff.create_table(idc_rfe)\n",
    "py.iplot(tab_rk)"
   ]
  },
  {
   "cell_type": "markdown",
   "metadata": {
    "_uuid": "1f7057d8314e17bf67c544794a6b3c2025ac9b99"
   },
   "source": [
    "## <a id='5.4'>5.4. Univariate Selection</a>\n",
    "* Feature Extraction with Univariate Statistical Tests (Chi-squared for classification)\n",
    "* uses the chi squared (chi^2) statistical test for non-negative features to select the best features"
   ]
  },
  {
   "cell_type": "code",
   "execution_count": null,
   "metadata": {
    "_uuid": "27089924eba9425a075576c5254523281dc5b1f5"
   },
   "outputs": [],
   "source": [
    "from sklearn.feature_selection import chi2\n",
    "from sklearn.feature_selection import SelectKBest\n",
    "\n",
    "#select columns\n",
    "cols = [i for i in telcom.columns if i not in Id_col + target_col ]\n",
    "\n",
    "#dataframe with non negative values\n",
    "df_x = df_telcom_og[cols]\n",
    "df_y = df_telcom_og[target_col]\n",
    "\n",
    "#fit model with k= 3\n",
    "select = SelectKBest(score_func = chi2,k = 3)\n",
    "fit    = select.fit(df_x,df_y)\n",
    "\n",
    "#Summerize scores\n",
    "print (\"scores\")\n",
    "print (fit.scores_)\n",
    "print (\"P - Values\")\n",
    "print (fit.pvalues_)\n",
    "\n",
    "#create dataframe\n",
    "score = pd.DataFrame({\"features\":cols,\"scores\":fit.scores_,\"p_values\":fit.pvalues_ })\n",
    "score = score.sort_values(by = \"scores\" ,ascending =False)\n",
    "\n",
    "\n",
    "#createing new label for categorical and numerical columns\n",
    "score[\"feature_type\"] = np.where(score[\"features\"].isin(num_cols),\"Numerical\",\"Categorical\")\n",
    "\n",
    "#plot\n",
    "trace  = go.Scatter(x = score[score[\"feature_type\"] == \"Categorical\"][\"features\"],\n",
    "                    y = score[score[\"feature_type\"] == \"Categorical\"][\"scores\"],\n",
    "                    name = \"Categorial\",mode = \"lines+markers\",\n",
    "                    marker = dict(color = \"red\",\n",
    "                                  line = dict(width =1))\n",
    "                   )\n",
    "\n",
    "trace1 = go.Bar(x = score[score[\"feature_type\"] == \"Numerical\"][\"features\"],\n",
    "                y = score[score[\"feature_type\"] == \"Numerical\"][\"scores\"],name = \"Numerical\",\n",
    "                marker = dict(color = \"royalblue\",\n",
    "                              line = dict(width =1)),\n",
    "                xaxis = \"x2\",yaxis = \"y2\"\n",
    "               )\n",
    "layout = go.Layout(dict(title = \"Scores for Categorical & Numerical features\",\n",
    "                        plot_bgcolor  = \"rgb(243,243,243)\",\n",
    "                        paper_bgcolor = \"rgb(243,243,243)\",\n",
    "                        xaxis = dict(gridcolor = 'rgb(255, 255, 255)',\n",
    "                                     tickfont = dict(size =10),\n",
    "                                     domain=[0, 0.7],\n",
    "                                     tickangle = 90,zerolinewidth=1,\n",
    "                                     ticklen=5,gridwidth=2),\n",
    "                        yaxis = dict(gridcolor = 'rgb(255, 255, 255)',\n",
    "                                     title = \"scores\",\n",
    "                                     zerolinewidth=1,ticklen=5,gridwidth=2),\n",
    "                        margin = dict(b=200),\n",
    "                        xaxis2=dict(domain=[0.8, 1],tickangle = 90,\n",
    "                                    gridcolor = 'rgb(255, 255, 255)'),\n",
    "                        yaxis2=dict(anchor='x2',gridcolor = 'rgb(255, 255, 255)')\n",
    "                        )\n",
    "                  )\n",
    "\n",
    "data=[trace,trace1]\n",
    "fig = go.Figure(data=data,layout=layout)\n",
    "py.iplot(fig)"
   ]
  },
  {
   "cell_type": "markdown",
   "metadata": {
    "_uuid": "a07fecf352ce39ca7cc43664b6995807a89a3821"
   },
   "source": [
    "## <a id='5.5'>5.5. Decision Tree Visualization</a>\n",
    "* Using top three numerical features"
   ]
  },
  {
   "cell_type": "code",
   "execution_count": null,
   "metadata": {
    "_uuid": "ea1d40b1f9909f5460441817ee36ba2da51b02ed",
    "scrolled": false
   },
   "outputs": [],
   "source": [
    "from sklearn.tree import DecisionTreeClassifier\n",
    "from sklearn.tree import export_graphviz\n",
    "from sklearn import tree\n",
    "from graphviz import Source\n",
    "from IPython.display import SVG,display\n",
    "\n",
    "#top 3 categorical features\n",
    "features_cat  = score[score[\"feature_type\"] == \"Categorical\"][\"features\"][:3].tolist()\n",
    "\n",
    "#top 3 numerical features\n",
    "features_num  = score[score[\"feature_type\"] == \"Numerical\"][\"features\"][:3].tolist()\n",
    "\n",
    "\n",
    "#Function attributes\n",
    "#columns        - selected columns\n",
    "#maximum_depth  - depth of tree\n",
    "#criterion_type - [\"gini\" or \"entropy\"]\n",
    "#split_type     - [\"best\" or \"random\"]\n",
    "#Model Performance - True (gives model output)\n",
    "\n",
    "def plot_decision_tree(columns,maximum_depth,criterion_type,\n",
    "                       split_type,model_performance = None) :\n",
    "    \n",
    "    #separating dependent and in dependent variables\n",
    "    dtc_x = df_x[columns]\n",
    "    dtc_y = df_y[target_col]\n",
    "    \n",
    "    #model\n",
    "    dt_classifier = DecisionTreeClassifier(max_depth = maximum_depth,\n",
    "                                           splitter  = split_type,\n",
    "                                           criterion = criterion_type,\n",
    "                                          )\n",
    "    dt_classifier.fit(dtc_x,dtc_y)\n",
    "    \n",
    "    #plot decision tree\n",
    "    graph = Source(tree.export_graphviz(dt_classifier,out_file=None,\n",
    "                                        rounded=True,proportion = False,\n",
    "                                        feature_names = columns, \n",
    "                                        precision  = 2,\n",
    "                                        class_names=[\"Not churn\",\"Churn\"],\n",
    "                                        filled = True                         \n",
    "                                       )\n",
    "                  )\n",
    "    \n",
    "    #model performance\n",
    "    if model_performance == True :\n",
    "        telecom_churn_prediction(dt_classifier,\n",
    "                                 dtc_x,test_X[columns],\n",
    "                                 dtc_y,test_Y,\n",
    "                                 columns,\"features\",threshold_plot = True)\n",
    "    display(graph)\n",
    "    \n",
    "plot_decision_tree(features_num,3,\"gini\",\"best\")"
   ]
  },
  {
   "cell_type": "markdown",
   "metadata": {
    "_uuid": "2ccee38cc7cda6e59cc97de47da9096f03123dd3"
   },
   "source": [
    "### * Using top three categorical features"
   ]
  },
  {
   "cell_type": "code",
   "execution_count": null,
   "metadata": {},
   "outputs": [],
   "source": [
    "features_cat"
   ]
  },
  {
   "cell_type": "code",
   "execution_count": null,
   "metadata": {
    "_uuid": "dfe50b84806d633c49780cc518017b26f66c0c31"
   },
   "outputs": [],
   "source": [
    "plot_decision_tree(features_cat,3,\"entropy\",\"best\",\n",
    "                   model_performance = True ,)"
   ]
  },
  {
   "cell_type": "code",
   "execution_count": null,
   "metadata": {
    "_uuid": "d0a7f7cb549f592142166505a3f03e612f690bb2"
   },
   "outputs": [],
   "source": [
    "#using contract,tenure and paperless billing variables\n",
    "columns = ['tenure','Contract_Month-to-month', 'PaperlessBilling',\n",
    "           'Contract_One year', 'Contract_Two year']\n",
    "\n",
    "plot_decision_tree(columns,3,\"gini\",\"best\",model_performance= True)"
   ]
  },
  {
   "cell_type": "markdown",
   "metadata": {
    "_uuid": "d1f760b002defd916b4566ae59312bcada1a9229"
   },
   "source": [
    "## <a id='5.6'>5.6. KNN Classifier</a>\n",
    "* Applying knn algorithm to smote  oversampled data.\n"
   ]
  },
  {
   "cell_type": "code",
   "execution_count": null,
   "metadata": {
    "_uuid": "8697d16c7e56db13e012458c797b60c3fa6b2f67"
   },
   "outputs": [],
   "source": [
    "def telecom_churn_prediction_alg(algorithm,training_x,testing_x,\n",
    "                                 training_y,testing_y,threshold_plot = True) :\n",
    "    \n",
    "    #model\n",
    "    algorithm.fit(training_x,training_y)\n",
    "    predictions   = algorithm.predict(testing_x)\n",
    "    probabilities = algorithm.predict_proba(testing_x)\n",
    "    \n",
    "    print (algorithm)\n",
    "    print (\"\\n Classification report : \\n\",classification_report(testing_y,predictions))\n",
    "    print (\"Accuracy Score   : \",accuracy_score(testing_y,predictions))\n",
    "    #confusion matrix\n",
    "    conf_matrix = confusion_matrix(testing_y,predictions)\n",
    "    #roc_auc_score\n",
    "    model_roc_auc = roc_auc_score(testing_y,predictions) \n",
    "    print (\"Area under curve : \",model_roc_auc)\n",
    "    fpr,tpr,thresholds = roc_curve(testing_y,probabilities[:,1])\n",
    "     \n",
    "    #plot roc curve\n",
    "    trace1 = go.Scatter(x = fpr,y = tpr,\n",
    "                        name = \"Roc : \" + str(model_roc_auc),\n",
    "                        line = dict(color = ('rgb(22, 96, 167)'),width = 2),\n",
    "                       )\n",
    "    trace2 = go.Scatter(x = [0,1],y=[0,1],\n",
    "                        line = dict(color = ('rgb(205, 12, 24)'),width = 2,\n",
    "                        dash = 'dot'))\n",
    "    \n",
    "    #plot confusion matrix\n",
    "    trace3 = go.Heatmap(z = conf_matrix ,x = [\"Not churn\",\"Churn\"],\n",
    "                        y = [\"Not churn\",\"Churn\"],\n",
    "                        showscale  = False,colorscale = \"Blues\",name = \"matrix\",\n",
    "                        xaxis = \"x2\",yaxis = \"y2\"\n",
    "                       )\n",
    "    \n",
    "    layout = go.Layout(dict(title=\"Model performance\" ,\n",
    "                            autosize = False,height = 500,width = 800,\n",
    "                            showlegend = False,\n",
    "                            plot_bgcolor  = \"rgb(243,243,243)\",\n",
    "                            paper_bgcolor = \"rgb(243,243,243)\",\n",
    "                            xaxis = dict(title = \"false positive rate\",\n",
    "                                         gridcolor = 'rgb(255, 255, 255)',\n",
    "                                         domain=[0, 0.6],\n",
    "                                         ticklen=5,gridwidth=2),\n",
    "                            yaxis = dict(title = \"true positive rate\",\n",
    "                                         gridcolor = 'rgb(255, 255, 255)',\n",
    "                                         zerolinewidth=1,\n",
    "                                         ticklen=5,gridwidth=2),\n",
    "                            margin = dict(b=200),\n",
    "                            xaxis2=dict(domain=[0.7, 1],tickangle = 90,\n",
    "                                        gridcolor = 'rgb(255, 255, 255)'),\n",
    "                            yaxis2=dict(anchor='x2',gridcolor = 'rgb(255, 255, 255)')\n",
    "                           )\n",
    "                  )\n",
    "    data = [trace1,trace2,trace3]\n",
    "    fig = go.Figure(data=data,layout=layout)\n",
    "    \n",
    "    py.iplot(fig)\n",
    "    \n",
    "    if threshold_plot == True : \n",
    "        visualizer = DiscriminationThreshold(algorithm)\n",
    "        visualizer.fit(training_x,training_y)\n",
    "        visualizer.poof()\n",
    "\n",
    "    \n",
    "from sklearn.neighbors import KNeighborsClassifier\n",
    "knn = KNeighborsClassifier(algorithm='auto', leaf_size=30, metric='minkowski',\n",
    "           metric_params=None, n_jobs=1, n_neighbors=5, p=2,\n",
    "           weights='uniform')\n",
    "telecom_churn_prediction_alg(knn,os_smote_X,test_X,\n",
    "                             os_smote_Y,test_Y,threshold_plot = True)"
   ]
  },
  {
   "cell_type": "markdown",
   "metadata": {
    "_uuid": "4da23289dc077e781656d2996c990a08a527c8f9"
   },
   "source": [
    "## <a id='5.7'>5.7. Vizualising a decision tree from random forest classifier</a>"
   ]
  },
  {
   "cell_type": "code",
   "execution_count": null,
   "metadata": {
    "_uuid": "75a1414fe8147d4f4bca042c019e273c70d33c07"
   },
   "outputs": [],
   "source": [
    "from sklearn.ensemble import RandomForestClassifier\n",
    "\n",
    "#function attributes\n",
    "#columns  - column used\n",
    "#nf_estimators   - The number of trees in the forest.\n",
    "#estimated_tree  - tree number to be displayed\n",
    "#maximum_depth   - depth of the tree\n",
    "#criterion_type  - split criterion type [\"gini\" or \"entropy\"]\n",
    "#Model performance - prints performance of model\n",
    "\n",
    "def plot_tree_randomforest(columns,nf_estimators,\n",
    "                           estimated_tree,maximum_depth,\n",
    "                           criterion_type,model_performance = None) :\n",
    "    \n",
    "    dataframe = df_telcom_og[columns + target_col].copy()\n",
    "    \n",
    "    #train and test datasets\n",
    "    rf_x     = dataframe[[i for i in columns if i not in target_col]]\n",
    "    rf_y     = dataframe[target_col]\n",
    "    \n",
    "    #random forest classifier\n",
    "    rfc   = RandomForestClassifier(n_estimators = nf_estimators,\n",
    "                                   max_depth = maximum_depth,\n",
    "                                   criterion = criterion_type,\n",
    "                                  )\n",
    "    rfc.fit(rf_x,rf_y)\n",
    "    \n",
    "    estimated_tree = rfc.estimators_[estimated_tree]\n",
    "    \n",
    "    graph = Source(tree.export_graphviz(estimated_tree,out_file=None,\n",
    "                                        rounded=True,proportion = False,\n",
    "                            feature_names = columns, \n",
    "                            precision  = 2,\n",
    "                            class_names=[\"Not churn\",\"Churn\"],\n",
    "                            filled = True))\n",
    "    display(graph)\n",
    "    \n",
    "    #model performance\n",
    "    if model_performance == True :\n",
    "        telecom_churn_prediction(rfc,\n",
    "                                 rf_x,test_X[columns],\n",
    "                                 rf_y,test_Y,\n",
    "                                 columns,\"features\",threshold_plot = True)\n",
    "        \n",
    "\n",
    "cols1 = [ i for i in train_X.columns if i not in target_col + Id_col] \n",
    "plot_tree_randomforest(cols1,100,99,3,\"entropy\",True)"
   ]
  },
  {
   "cell_type": "markdown",
   "metadata": {
    "_uuid": "5dac202bbbe6e6869eab168e6a10a1efa6abe291"
   },
   "source": [
    "## <a id='5.8'>5.8. A random forest classifier.</a>\n",
    "* A random forest is a meta estimator that fits a number of decision tree classifiers on various sub-samples of the dataset and use averaging to improve the predictive accuracy and control over-fitting. The sub-sample size is always the same as the original input sample size but the samples are drawn with replacement .\n",
    "* Below are the trees produced by random forest model with 10 estimated trees with maximum depth of three  for each tree. Each tree produced is slightly different from other."
   ]
  },
  {
   "cell_type": "code",
   "execution_count": null,
   "metadata": {
    "_uuid": "bec2258c30240d958901d705c7b4ab1d8ab6c43f"
   },
   "outputs": [],
   "source": [
    "#making 10 trees with random forest.\n",
    "n = np.arange(0,10).tolist()\n",
    "cols1 = [ i for i in train_X.columns if i not in target_col + Id_col] \n",
    "for i in n :\n",
    "    plot_tree_randomforest(cols1,10,i,3,\"entropy\",model_performance=False)"
   ]
  },
  {
   "cell_type": "code",
   "execution_count": null,
   "metadata": {
    "_uuid": "593bb355aec5d5baa385000f55319f064539f2f8"
   },
   "outputs": [],
   "source": [
    "#making 10 trees with random forest for columns \n",
    "#selected from recursive feature elimination\n",
    "\n",
    "n = np.arange(0,10).tolist()\n",
    "cols = idc_rfe[idc_rfe[\"rfe_support\"] == True][\"columns\"].tolist() \n",
    "for i in n :\n",
    "    plot_tree_randomforest(cols,10,i,3,\"gini\",model_performance=False)\n"
   ]
  },
  {
   "cell_type": "markdown",
   "metadata": {
    "_uuid": "d89e418310cb3f60d4db4fdb4be330a74b918ba7"
   },
   "source": [
    "## <a id='5.9'>5.9. Gaussian Naive Bayes.</a>"
   ]
  },
  {
   "cell_type": "code",
   "execution_count": null,
   "metadata": {
    "_uuid": "106512611d7108e63d5b4dc38cdf5fd72eef8ea4"
   },
   "outputs": [],
   "source": [
    "from sklearn.naive_bayes import GaussianNB\n",
    "gnb = GaussianNB(priors=None)\n",
    "\n",
    "telecom_churn_prediction_alg(gnb,os_smote_X,test_X,os_smote_Y,test_Y)"
   ]
  },
  {
   "cell_type": "markdown",
   "metadata": {},
   "source": [
    "## <a id='5.14'>5.14. Bayesian Network</a>"
   ]
  },
  {
   "cell_type": "code",
   "execution_count": 14,
   "metadata": {},
   "outputs": [],
   "source": [
    "from sklearn.model_selection import train_test_split\n",
    "from sklearn.linear_model import LogisticRegression\n",
    "from sklearn.metrics import confusion_matrix,accuracy_score,classification_report\n",
    "from sklearn.metrics import roc_auc_score,roc_curve,scorer\n",
    "from sklearn.metrics import f1_score\n",
    "import statsmodels.api as sm\n",
    "from sklearn.metrics import precision_score,recall_score\n",
    "from yellowbrick.classifier import DiscriminationThreshold\n",
    "\n",
    "df_telcom_og.drop(['gender', 'tenure', 'MonthlyCharges', 'TotalCharges'],axis=1,inplace=True)\n",
    "#splitting train and test data \n",
    "train,test = train_test_split(df_telcom_og,test_size = .25 ,random_state = 111)\n",
    "    \n",
    "##seperating dependent and independent variables\n",
    "cols    = [i for i in df_telcom_og.columns if i not in Id_col + target_col]\n",
    "train_X = train[cols]\n",
    "train_Y = train[target_col]\n",
    "test_X  = test[cols]\n",
    "test_Y  = test[target_col]\n",
    "\n",
    "trainbn = pd.concat([train_X, train_Y], axis=1)"
   ]
  },
  {
   "cell_type": "code",
   "execution_count": null,
   "metadata": {},
   "outputs": [],
   "source": []
  },
  {
   "cell_type": "code",
   "execution_count": 18,
   "metadata": {},
   "outputs": [
    {
     "data": {
      "text/html": [
       "<div>\n",
       "<style scoped>\n",
       "    .dataframe tbody tr th:only-of-type {\n",
       "        vertical-align: middle;\n",
       "    }\n",
       "\n",
       "    .dataframe tbody tr th {\n",
       "        vertical-align: top;\n",
       "    }\n",
       "\n",
       "    .dataframe thead th {\n",
       "        text-align: right;\n",
       "    }\n",
       "</style>\n",
       "<table border=\"1\" class=\"dataframe\">\n",
       "  <thead>\n",
       "    <tr style=\"text-align: right;\">\n",
       "      <th></th>\n",
       "      <th>Churn</th>\n",
       "    </tr>\n",
       "  </thead>\n",
       "  <tbody>\n",
       "    <tr>\n",
       "      <td>3464</td>\n",
       "      <td>0</td>\n",
       "    </tr>\n",
       "    <tr>\n",
       "      <td>354</td>\n",
       "      <td>1</td>\n",
       "    </tr>\n",
       "    <tr>\n",
       "      <td>2326</td>\n",
       "      <td>0</td>\n",
       "    </tr>\n",
       "    <tr>\n",
       "      <td>2921</td>\n",
       "      <td>0</td>\n",
       "    </tr>\n",
       "    <tr>\n",
       "      <td>5391</td>\n",
       "      <td>0</td>\n",
       "    </tr>\n",
       "    <tr>\n",
       "      <td>1413</td>\n",
       "      <td>0</td>\n",
       "    </tr>\n",
       "    <tr>\n",
       "      <td>1781</td>\n",
       "      <td>1</td>\n",
       "    </tr>\n",
       "    <tr>\n",
       "      <td>1141</td>\n",
       "      <td>0</td>\n",
       "    </tr>\n",
       "    <tr>\n",
       "      <td>4004</td>\n",
       "      <td>0</td>\n",
       "    </tr>\n",
       "    <tr>\n",
       "      <td>3841</td>\n",
       "      <td>0</td>\n",
       "    </tr>\n",
       "  </tbody>\n",
       "</table>\n",
       "</div>"
      ],
      "text/plain": [
       "      Churn\n",
       "3464      0\n",
       "354       1\n",
       "2326      0\n",
       "2921      0\n",
       "5391      0\n",
       "1413      0\n",
       "1781      1\n",
       "1141      0\n",
       "4004      0\n",
       "3841      0"
      ]
     },
     "execution_count": 18,
     "metadata": {},
     "output_type": "execute_result"
    }
   ],
   "source": [
    "test_Y.head(10)"
   ]
  },
  {
   "cell_type": "code",
   "execution_count": 19,
   "metadata": {},
   "outputs": [],
   "source": [
    "from pgmpy.models import BayesianModel\n",
    "from pgmpy.estimators import MaximumLikelihoodEstimator\n",
    "\n",
    "# network construction\n",
    "\n",
    "bn = BayesianModel([('Partner','Dependents'),     \n",
    "        ('SeniorCitizen','Dependents'),\n",
    "        \n",
    "        ('Dependents','PhoneService'),\n",
    "        ('PhoneService','MultipleLines_No'),\n",
    "        ('PhoneService','MultipleLines_No phone service'),\n",
    "        ('PhoneService','MultipleLines_Yes'),\n",
    "        ('PhoneService','DeviceProtection'),\n",
    "        ('PhoneService','TechSupport'),\n",
    "        \n",
    "        ('PhoneService','tenure_group_Tenure_0-12'),\n",
    "        ('InternetService_DSL','tenure_group_Tenure_0-12'),\n",
    "        ('InternetService_Fiber optic','tenure_group_Tenure_0-12'),\n",
    "        ('InternetService_No','tenure_group_Tenure_0-12'),\n",
    "        ('PhoneService','tenure_group_Tenure_12-24'),\n",
    "        ('InternetService_DSL','tenure_group_Tenure_12-24'),\n",
    "        ('InternetService_Fiber optic','tenure_group_Tenure_12-24'),\n",
    "        ('InternetService_No','tenure_group_Tenure_12-24'),\n",
    "        ('PhoneService','tenure_group_Tenure_24-48'),\n",
    "        ('InternetService_DSL','tenure_group_Tenure_24-48'),\n",
    "        ('InternetService_Fiber optic','tenure_group_Tenure_24-48'),\n",
    "        ('InternetService_No','tenure_group_Tenure_24-48'),\n",
    "        ('PhoneService','tenure_group_Tenure_48-60'),\n",
    "        ('InternetService_DSL','tenure_group_Tenure_48-60'),\n",
    "        ('InternetService_Fiber optic','tenure_group_Tenure_48-60'),\n",
    "        ('InternetService_No','tenure_group_Tenure_48-60'),\n",
    "        ('PhoneService','tenure_group_Tenure_gt_60'),\n",
    "        ('InternetService_DSL','tenure_group_Tenure_gt_60'),\n",
    "        ('InternetService_Fiber optic','tenure_group_Tenure_gt_60'),\n",
    "        ('InternetService_No','tenure_group_Tenure_gt_60'),\n",
    "        \n",
    "        ('tenure_group_Tenure_0-12','Churn'),\n",
    "        ('tenure_group_Tenure_12-24','Churn'),\n",
    "        ('tenure_group_Tenure_24-48','Churn'),\n",
    "        ('tenure_group_Tenure_48-60','Churn'),\n",
    "        ('tenure_group_Tenure_gt_60','Churn'),\n",
    "                    \n",
    "        ('MultipleLines_No','mc_group_MonthlyCharges_0-30'),\n",
    "        ('MultipleLines_No phone service','mc_group_MonthlyCharges_0-30'),\n",
    "        ('MultipleLines_Yes','mc_group_MonthlyCharges_0-30'),\n",
    "        ('DeviceProtection','mc_group_MonthlyCharges_0-30'),\n",
    "        ('TechSupport','mc_group_MonthlyCharges_0-30'),\n",
    "        ('MultipleLines_No','mc_group_MonthlyCharges_30-60'),\n",
    "        ('MultipleLines_No phone service','mc_group_MonthlyCharges_30-60'),\n",
    "        ('MultipleLines_Yes','mc_group_MonthlyCharges_30-60'),\n",
    "        ('DeviceProtection','mc_group_MonthlyCharges_30-60'),\n",
    "        ('TechSupport','mc_group_MonthlyCharges_30-60'),\n",
    "        ('MultipleLines_No','mc_group_MonthlyCharges_60-90'),\n",
    "        ('MultipleLines_No phone service','mc_group_MonthlyCharges_60-90'),\n",
    "        ('MultipleLines_Yes','mc_group_MonthlyCharges_60-90'),\n",
    "        ('DeviceProtection','mc_group_MonthlyCharges_60-90'),\n",
    "        ('TechSupport','mc_group_MonthlyCharges_60-90'),\n",
    "        ('MultipleLines_No','mc_group_MonthlyCharges_90-120'),\n",
    "        ('MultipleLines_No phone service','mc_group_MonthlyCharges_90-120'),\n",
    "        ('MultipleLines_Yes','mc_group_MonthlyCharges_90-120'),\n",
    "        ('DeviceProtection','mc_group_MonthlyCharges_90-120'),\n",
    "        ('TechSupport','mc_group_MonthlyCharges_90-120'),\n",
    "                    \n",
    "        \n",
    "        ('Dependents','InternetService_DSL'),\n",
    "        ('Dependents','InternetService_Fiber optic'),\n",
    "        ('Dependents','InternetService_No'),\n",
    "                    \n",
    "        ('InternetService_DSL','DeviceProtection'),\n",
    "        ('InternetService_Fiber optic','DeviceProtection'),\n",
    "        ('InternetService_No','DeviceProtection'),\n",
    "        ('InternetService_DSL','TechSupport'),\n",
    "        ('InternetService_Fiber optic','TechSupport'),\n",
    "        ('InternetService_No','TechSupport'),\n",
    "                              \n",
    "        ('InternetService_DSL','StreamingTV'),\n",
    "        ('InternetService_Fiber optic','StreamingTV'),\n",
    "        ('InternetService_No','StreamingTV'),\n",
    "        ('InternetService_DSL','StreamingMovies'),\n",
    "        ('InternetService_Fiber optic','StreamingMovies'),\n",
    "        ('InternetService_No','StreamingMovies'),\n",
    "        ('InternetService_DSL','OnlineSecurity'),\n",
    "        ('InternetService_Fiber optic','OnlineSecurity'),\n",
    "        ('InternetService_No','OnlineSecurity'),\n",
    "        ('InternetService_DSL','OnlineBackup'),\n",
    "        ('InternetService_Fiber optic','OnlineBackup'),\n",
    "        ('InternetService_No','OnlineBackup'),\n",
    "                    \n",
    "        ('StreamingTV','mc_group_MonthlyCharges_0-30'),\n",
    "        ('StreamingMovies','mc_group_MonthlyCharges_0-30'),\n",
    "        ('OnlineSecurity','mc_group_MonthlyCharges_0-30'),\n",
    "        ('OnlineBackup','mc_group_MonthlyCharges_0-30'),\n",
    "        ('StreamingTV','mc_group_MonthlyCharges_30-60'),\n",
    "        ('StreamingMovies','mc_group_MonthlyCharges_30-60'),\n",
    "        ('OnlineSecurity','mc_group_MonthlyCharges_30-60'),\n",
    "        ('OnlineBackup','mc_group_MonthlyCharges_30-60'),\n",
    "        ('StreamingTV','mc_group_MonthlyCharges_60-90'),\n",
    "        ('StreamingMovies','mc_group_MonthlyCharges_60-90'),\n",
    "        ('OnlineSecurity','mc_group_MonthlyCharges_60-90'),\n",
    "        ('OnlineBackup','mc_group_MonthlyCharges_60-90'),\n",
    "        ('StreamingTV','mc_group_MonthlyCharges_90-120'),\n",
    "        ('StreamingMovies','mc_group_MonthlyCharges_90-120'),\n",
    "        ('OnlineSecurity','mc_group_MonthlyCharges_90-120'),\n",
    "        ('OnlineBackup','mc_group_MonthlyCharges_90-120'),\n",
    "\n",
    "                    \n",
    "        ('SeniorCitizen','PaperlessBilling'),\n",
    "        ('PaperlessBilling','PaymentMethod_Bank transfer (automatic)'),\n",
    "        ('PaperlessBilling','PaymentMethod_Credit card (automatic)'),\n",
    "        ('PaperlessBilling','PaymentMethod_Electronic check'),\n",
    "        ('PaperlessBilling','PaymentMethod_Mailed check'),\n",
    "        ('PaymentMethod_Bank transfer (automatic)','Contract_Month-to-month'),                    \n",
    "        ('PaymentMethod_Bank transfer (automatic)','Contract_One year'),\n",
    "        ('PaymentMethod_Bank transfer (automatic)','Contract_Two year'),\n",
    "        ('PaymentMethod_Credit card (automatic)','Contract_Month-to-month'),                    \n",
    "        ('PaymentMethod_Credit card (automatic)','Contract_One year'),\n",
    "        ('PaymentMethod_Credit card (automatic)','Contract_Two year'),\n",
    "        ('PaymentMethod_Electronic check','Contract_Month-to-month'),                    \n",
    "        ('PaymentMethod_Electronic check','Contract_One year'),\n",
    "        ('PaymentMethod_Electronic check','Contract_Two year'),\n",
    "        ('PaymentMethod_Mailed check','Contract_Month-to-month'),                    \n",
    "        ('PaymentMethod_Mailed check','Contract_One year'),\n",
    "        ('PaymentMethod_Mailed check','Contract_Two year'),\n",
    "        ('Contract_Month-to-month','mc_group_MonthlyCharges_0-30'),\n",
    "        ('Contract_One year','mc_group_MonthlyCharges_0-30'),\n",
    "        ('Contract_Two year','mc_group_MonthlyCharges_0-30'),\n",
    "        ('Contract_Month-to-month','mc_group_MonthlyCharges_30-60'),\n",
    "        ('Contract_One year','mc_group_MonthlyCharges_30-60'),\n",
    "        ('Contract_Two year','mc_group_MonthlyCharges_30-60'),\n",
    "        ('Contract_Month-to-month','mc_group_MonthlyCharges_60-90'),\n",
    "        ('Contract_One year','mc_group_MonthlyCharges_60-90'),\n",
    "        ('Contract_Two year','mc_group_MonthlyCharges_60-90'),\n",
    "        ('Contract_Month-to-month','mc_group_MonthlyCharges_90-120'),\n",
    "        ('Contract_One year','mc_group_MonthlyCharges_90-120'),\n",
    "        ('Contract_Two year','mc_group_MonthlyCharges_90-120'), \n",
    "                    \n",
    "        ('mc_group_MonthlyCharges_0-30','tc_group_TotalCharges_0-400'),\n",
    "        ('mc_group_MonthlyCharges_30-60','tc_group_TotalCharges_0-400'),\n",
    "        ('mc_group_MonthlyCharges_60-90','tc_group_TotalCharges_0-400'),\n",
    "        ('mc_group_MonthlyCharges_90-120','tc_group_TotalCharges_0-400'),\n",
    "        ('mc_group_MonthlyCharges_0-30','tc_group_TotalCharges_1400-4000'),\n",
    "        ('mc_group_MonthlyCharges_30-60','tc_group_TotalCharges_1400-4000'),\n",
    "        ('mc_group_MonthlyCharges_60-90','tc_group_TotalCharges_1400-4000'),\n",
    "        ('mc_group_MonthlyCharges_90-120','tc_group_TotalCharges_1400-4000'),\n",
    "        ('mc_group_MonthlyCharges_0-30','tc_group_TotalCharges_400-1400'),\n",
    "        ('mc_group_MonthlyCharges_30-60','tc_group_TotalCharges_400-1400'),\n",
    "        ('mc_group_MonthlyCharges_60-90','tc_group_TotalCharges_400-1400'),\n",
    "        ('mc_group_MonthlyCharges_90-120','tc_group_TotalCharges_400-1400'),\n",
    "        ('mc_group_MonthlyCharges_0-30','tc_group_TotalCharges_4000-9000'),\n",
    "        ('mc_group_MonthlyCharges_30-60','tc_group_TotalCharges_4000-9000'),\n",
    "        ('mc_group_MonthlyCharges_60-90','tc_group_TotalCharges_4000-9000'),\n",
    "        ('mc_group_MonthlyCharges_90-120','tc_group_TotalCharges_4000-9000'),\n",
    "        ('tc_group_TotalCharges_0-400','Churn'),\n",
    "        ('tc_group_TotalCharges_400-1400','Churn'),\n",
    "        ('tc_group_TotalCharges_1400-4000','Churn'),\n",
    "        ('tc_group_TotalCharges_4000-9000','Churn')      \n",
    "        ])\n",
    "\n",
    "bn.fit(trainbn, estimator=MaximumLikelihoodEstimator)\n"
   ]
  },
  {
   "attachments": {
    "BNgraph.PNG": {
     "image/png": "[encoded data removed]"
    }
   },
   "cell_type": "markdown",
   "metadata": {},
   "source": [
    "![BNgraph.PNG](attachment:BNgraph.PNG)"
   ]
  },
  {
   "cell_type": "code",
   "execution_count": 20,
   "metadata": {},
   "outputs": [
    {
     "name": "stderr",
     "output_type": "stream",
     "text": [
      "Finding Elimination Order: : 100%|█████████████████████████████████████████████████████| 1/1 [00:00<00:00, 1001.98it/s]\n",
      "Eliminating: tc_group_TotalCharges_4000-9000: 100%|█████████████████████████████████████| 1/1 [00:00<00:00, 500.57it/s]\n"
     ]
    },
    {
     "name": "stdout",
     "output_type": "stream",
     "text": [
      "+----------+--------------+\n",
      "| Churn    |   phi(Churn) |\n",
      "+==========+==============+\n",
      "| Churn(0) |       0.5093 |\n",
      "+----------+--------------+\n",
      "| Churn(1) |       0.4907 |\n",
      "+----------+--------------+\n"
     ]
    },
    {
     "name": "stderr",
     "output_type": "stream",
     "text": [
      "Finding Elimination Order: : 100%|█████████████████████████████████████████████████████| 1/1 [00:00<00:00, 1001.51it/s]\n",
      "Eliminating: tc_group_TotalCharges_4000-9000: 100%|████████████████████████████████████| 1/1 [00:00<00:00, 1002.46it/s]\n"
     ]
    },
    {
     "name": "stdout",
     "output_type": "stream",
     "text": [
      "+----------+--------------+\n",
      "| Churn    |   phi(Churn) |\n",
      "+==========+==============+\n",
      "| Churn(0) |       0.7730 |\n",
      "+----------+--------------+\n",
      "| Churn(1) |       0.2270 |\n",
      "+----------+--------------+\n"
     ]
    },
    {
     "name": "stderr",
     "output_type": "stream",
     "text": [
      "Finding Elimination Order: : 100%|██████████████████████████████████████████████████████| 1/1 [00:00<00:00, 501.23it/s]\n",
      "Eliminating: tc_group_TotalCharges_4000-9000: 100%|█████████████████████████████████████| 1/1 [00:00<00:00, 334.10it/s]\n"
     ]
    },
    {
     "name": "stdout",
     "output_type": "stream",
     "text": [
      "+----------+--------------+\n",
      "| Churn    |   phi(Churn) |\n",
      "+==========+==============+\n",
      "| Churn(0) |       0.9615 |\n",
      "+----------+--------------+\n",
      "| Churn(1) |       0.0385 |\n",
      "+----------+--------------+\n"
     ]
    },
    {
     "name": "stderr",
     "output_type": "stream",
     "text": [
      "Finding Elimination Order: : 100%|██████████████████████████████████████████████████████| 1/1 [00:00<00:00, 501.23it/s]\n",
      "Eliminating: tc_group_TotalCharges_4000-9000: 100%|█████████████████████████████████████| 1/1 [00:00<00:00, 333.68it/s]\n"
     ]
    },
    {
     "name": "stdout",
     "output_type": "stream",
     "text": [
      "+----------+--------------+\n",
      "| Churn    |   phi(Churn) |\n",
      "+==========+==============+\n",
      "| Churn(0) |       0.7586 |\n",
      "+----------+--------------+\n",
      "| Churn(1) |       0.2414 |\n",
      "+----------+--------------+\n"
     ]
    },
    {
     "name": "stderr",
     "output_type": "stream",
     "text": [
      "Finding Elimination Order: : 100%|██████████████████████████████████████████████████████| 1/1 [00:00<00:00, 501.17it/s]\n",
      "Eliminating: tc_group_TotalCharges_4000-9000: 100%|█████████████████████████████████████| 1/1 [00:00<00:00, 501.23it/s]\n"
     ]
    },
    {
     "name": "stdout",
     "output_type": "stream",
     "text": [
      "+----------+--------------+\n",
      "| Churn    |   phi(Churn) |\n",
      "+==========+==============+\n",
      "| Churn(0) |       0.6953 |\n",
      "+----------+--------------+\n",
      "| Churn(1) |       0.3047 |\n",
      "+----------+--------------+\n"
     ]
    },
    {
     "name": "stderr",
     "output_type": "stream",
     "text": [
      "Finding Elimination Order: : 100%|█████████████████████████████████████████████████████| 1/1 [00:00<00:00, 1002.46it/s]\n",
      "Eliminating: tc_group_TotalCharges_4000-9000: 100%|█████████████████████████████████████| 1/1 [00:00<00:00, 501.35it/s]\n"
     ]
    },
    {
     "name": "stdout",
     "output_type": "stream",
     "text": [
      "+----------+--------------+\n",
      "| Churn    |   phi(Churn) |\n",
      "+==========+==============+\n",
      "| Churn(0) |       0.6003 |\n",
      "+----------+--------------+\n",
      "| Churn(1) |       0.3997 |\n",
      "+----------+--------------+\n"
     ]
    },
    {
     "name": "stderr",
     "output_type": "stream",
     "text": [
      "Finding Elimination Order: : 100%|█████████████████████████████████████████████████████| 1/1 [00:00<00:00, 1004.62it/s]\n",
      "Eliminating: tc_group_TotalCharges_4000-9000: 100%|█████████████████████████████████████| 1/1 [00:00<00:00, 501.23it/s]\n"
     ]
    },
    {
     "name": "stdout",
     "output_type": "stream",
     "text": [
      "+----------+--------------+\n",
      "| Churn    |   phi(Churn) |\n",
      "+==========+==============+\n",
      "| Churn(0) |       0.6953 |\n",
      "+----------+--------------+\n",
      "| Churn(1) |       0.3047 |\n",
      "+----------+--------------+\n"
     ]
    },
    {
     "name": "stderr",
     "output_type": "stream",
     "text": [
      "Finding Elimination Order: : 100%|██████████████████████████████████████████████████████| 1/1 [00:00<00:00, 501.83it/s]\n",
      "Eliminating: tc_group_TotalCharges_4000-9000: 100%|█████████████████████████████████████| 1/1 [00:00<00:00, 250.51it/s]\n"
     ]
    },
    {
     "name": "stdout",
     "output_type": "stream",
     "text": [
      "+----------+--------------+\n",
      "| Churn    |   phi(Churn) |\n",
      "+==========+==============+\n",
      "| Churn(0) |       0.6953 |\n",
      "+----------+--------------+\n",
      "| Churn(1) |       0.3047 |\n",
      "+----------+--------------+\n"
     ]
    },
    {
     "name": "stderr",
     "output_type": "stream",
     "text": [
      "Finding Elimination Order: : 100%|██████████████████████████████████████████████████████| 1/1 [00:00<00:00, 997.93it/s]\n",
      "Eliminating: tc_group_TotalCharges_4000-9000: 100%|█████████████████████████████████████| 1/1 [00:00<00:00, 500.57it/s]\n"
     ]
    },
    {
     "name": "stdout",
     "output_type": "stream",
     "text": [
      "+----------+--------------+\n",
      "| Churn    |   phi(Churn) |\n",
      "+==========+==============+\n",
      "| Churn(0) |       0.7762 |\n",
      "+----------+--------------+\n",
      "| Churn(1) |       0.2238 |\n",
      "+----------+--------------+\n"
     ]
    },
    {
     "name": "stderr",
     "output_type": "stream",
     "text": [
      "Finding Elimination Order: : 100%|█████████████████████████████████████████████████████| 1/1 [00:00<00:00, 1002.22it/s]\n",
      "Eliminating: tc_group_TotalCharges_4000-9000: 100%|█████████████████████████████████████| 1/1 [00:00<00:00, 250.68it/s]\n"
     ]
    },
    {
     "name": "stdout",
     "output_type": "stream",
     "text": [
      "+----------+--------------+\n",
      "| Churn    |   phi(Churn) |\n",
      "+==========+==============+\n",
      "| Churn(0) |       0.5337 |\n",
      "+----------+--------------+\n",
      "| Churn(1) |       0.4663 |\n",
      "+----------+--------------+\n"
     ]
    },
    {
     "name": "stderr",
     "output_type": "stream",
     "text": [
      "Finding Elimination Order: : 100%|█████████████████████████████████████████████████████| 1/1 [00:00<00:00, 1002.46it/s]\n",
      "Eliminating: tc_group_TotalCharges_4000-9000: 100%|█████████████████████████████████████| 1/1 [00:00<00:00, 501.83it/s]\n"
     ]
    },
    {
     "name": "stdout",
     "output_type": "stream",
     "text": [
      "+----------+--------------+\n",
      "| Churn    |   phi(Churn) |\n",
      "+==========+==============+\n",
      "| Churn(0) |       0.8668 |\n",
      "+----------+--------------+\n",
      "| Churn(1) |       0.1332 |\n",
      "+----------+--------------+\n"
     ]
    },
    {
     "name": "stderr",
     "output_type": "stream",
     "text": [
      "Finding Elimination Order: : 100%|██████████████████████████████████████████████████████| 1/1 [00:00<00:00, 501.41it/s]\n",
      "Eliminating: tc_group_TotalCharges_4000-9000: 100%|█████████████████████████████████████| 1/1 [00:00<00:00, 403.84it/s]\n"
     ]
    },
    {
     "name": "stdout",
     "output_type": "stream",
     "text": [
      "+----------+--------------+\n",
      "| Churn    |   phi(Churn) |\n",
      "+==========+==============+\n",
      "| Churn(0) |       0.5337 |\n",
      "+----------+--------------+\n",
      "| Churn(1) |       0.4663 |\n",
      "+----------+--------------+\n"
     ]
    },
    {
     "name": "stderr",
     "output_type": "stream",
     "text": [
      "Finding Elimination Order: : 100%|██████████████████████████████████████████████████████| 1/1 [00:00<00:00, 692.47it/s]\n",
      "Eliminating: tc_group_TotalCharges_4000-9000: 100%|█████████████████████████████████████| 1/1 [00:00<00:00, 500.63it/s]\n"
     ]
    },
    {
     "name": "stdout",
     "output_type": "stream",
     "text": [
      "+----------+--------------+\n",
      "| Churn    |   phi(Churn) |\n",
      "+==========+==============+\n",
      "| Churn(0) |       0.5980 |\n",
      "+----------+--------------+\n",
      "| Churn(1) |       0.4020 |\n",
      "+----------+--------------+\n"
     ]
    },
    {
     "name": "stderr",
     "output_type": "stream",
     "text": [
      "Finding Elimination Order: : 100%|█████████████████████████████████████████████████████| 1/1 [00:00<00:00, 1002.46it/s]\n",
      "Eliminating: tc_group_TotalCharges_4000-9000: 100%|█████████████████████████████████████| 1/1 [00:00<00:00, 501.41it/s]\n"
     ]
    },
    {
     "name": "stdout",
     "output_type": "stream",
     "text": [
      "+----------+--------------+\n",
      "| Churn    |   phi(Churn) |\n",
      "+==========+==============+\n",
      "| Churn(0) |       0.5463 |\n",
      "+----------+--------------+\n",
      "| Churn(1) |       0.4537 |\n",
      "+----------+--------------+\n"
     ]
    },
    {
     "name": "stderr",
     "output_type": "stream",
     "text": [
      "Finding Elimination Order: : 100%|█████████████████████████████████████████████████████| 1/1 [00:00<00:00, 1002.94it/s]\n",
      "Eliminating: tc_group_TotalCharges_4000-9000: 100%|█████████████████████████████████████| 1/1 [00:00<00:00, 503.03it/s]\n"
     ]
    },
    {
     "name": "stdout",
     "output_type": "stream",
     "text": [
      "+----------+--------------+\n",
      "| Churn    |   phi(Churn) |\n",
      "+==========+==============+\n",
      "| Churn(0) |       0.6707 |\n",
      "+----------+--------------+\n",
      "| Churn(1) |       0.3293 |\n",
      "+----------+--------------+\n"
     ]
    },
    {
     "name": "stderr",
     "output_type": "stream",
     "text": [
      "Finding Elimination Order: : 100%|██████████████████████████████████████████████████████| 1/1 [00:00<00:00, 999.60it/s]\n",
      "Eliminating: tc_group_TotalCharges_4000-9000: 100%|█████████████████████████████████████| 1/1 [00:00<00:00, 501.23it/s]\n"
     ]
    },
    {
     "name": "stdout",
     "output_type": "stream",
     "text": [
      "+----------+--------------+\n",
      "| Churn    |   phi(Churn) |\n",
      "+==========+==============+\n",
      "| Churn(0) |       0.7730 |\n",
      "+----------+--------------+\n",
      "| Churn(1) |       0.2270 |\n",
      "+----------+--------------+\n"
     ]
    },
    {
     "name": "stderr",
     "output_type": "stream",
     "text": [
      "Finding Elimination Order: : 100%|█████████████████████████████████████████████████████| 1/1 [00:00<00:00, 1003.66it/s]\n",
      "Eliminating: tc_group_TotalCharges_4000-9000: 100%|█████████████████████████████████████| 1/1 [00:00<00:00, 501.53it/s]\n"
     ]
    },
    {
     "name": "stdout",
     "output_type": "stream",
     "text": [
      "+----------+--------------+\n",
      "| Churn    |   phi(Churn) |\n",
      "+==========+==============+\n",
      "| Churn(0) |       0.7541 |\n",
      "+----------+--------------+\n",
      "| Churn(1) |       0.2459 |\n",
      "+----------+--------------+\n"
     ]
    },
    {
     "name": "stderr",
     "output_type": "stream",
     "text": [
      "Finding Elimination Order: : 100%|██████████████████████████████████████████████████████| 1/1 [00:00<00:00, 501.41it/s]\n",
      "Eliminating: tc_group_TotalCharges_4000-9000: 100%|█████████████████████████████████████| 1/1 [00:00<00:00, 501.05it/s]\n"
     ]
    },
    {
     "name": "stdout",
     "output_type": "stream",
     "text": [
      "+----------+--------------+\n",
      "| Churn    |   phi(Churn) |\n",
      "+==========+==============+\n",
      "| Churn(0) |       0.9615 |\n",
      "+----------+--------------+\n",
      "| Churn(1) |       0.0385 |\n",
      "+----------+--------------+\n"
     ]
    },
    {
     "name": "stderr",
     "output_type": "stream",
     "text": [
      "Finding Elimination Order: : 100%|██████████████████████████████████████████████████████| 1/1 [00:00<00:00, 500.63it/s]\n",
      "Eliminating: tc_group_TotalCharges_4000-9000: 100%|█████████████████████████████████████| 1/1 [00:00<00:00, 500.99it/s]\n"
     ]
    },
    {
     "name": "stdout",
     "output_type": "stream",
     "text": [
      "+----------+--------------+\n",
      "| Churn    |   phi(Churn) |\n",
      "+==========+==============+\n",
      "| Churn(0) |       0.5341 |\n",
      "+----------+--------------+\n",
      "| Churn(1) |       0.4659 |\n",
      "+----------+--------------+\n"
     ]
    },
    {
     "name": "stderr",
     "output_type": "stream",
     "text": [
      "Finding Elimination Order: : 100%|█████████████████████████████████████████████████████| 1/1 [00:00<00:00, 1001.98it/s]\n",
      "Eliminating: tc_group_TotalCharges_4000-9000: 100%|█████████████████████████████████████| 1/1 [00:00<00:00, 501.29it/s]\n"
     ]
    },
    {
     "name": "stdout",
     "output_type": "stream",
     "text": [
      "+----------+--------------+\n",
      "| Churn    |   phi(Churn) |\n",
      "+==========+==============+\n",
      "| Churn(0) |       0.9827 |\n",
      "+----------+--------------+\n",
      "| Churn(1) |       0.0173 |\n",
      "+----------+--------------+\n"
     ]
    },
    {
     "data": {
      "text/plain": [
       "[0, 0, 0, 0, 0, 0, 0, 0, 0, 0, 0, 0, 0, 0, 0, 0, 0, 0, 0, 0]"
      ]
     },
     "execution_count": 20,
     "metadata": {},
     "output_type": "execute_result"
    }
   ],
   "source": [
    "from pgmpy.inference import VariableElimination\n",
    "infer = VariableElimination(bn)\n",
    "\n",
    "def get_query_result(infer, X_test):\n",
    "    result = []\n",
    "    variables = X_test.columns.tolist()[:-1] # [:-1] to exclude last Var38 in this case\n",
    "    for i in range(20): #len(X_test.values)): --- using range(5) to limit number of queries\n",
    "        q = infer.query(variables=['Churn'], evidence=dict(zip(variables,list(map(int,X_test.values[i].tolist()))[:-1]))) # [:-1] to exclude last Var38 in this case\n",
    "        if q.values[0] >= 0.5:\n",
    "            result.append(0)\n",
    "        else:\n",
    "            result.append(1)\n",
    "        print(q)\n",
    "    return result\n",
    "\n",
    "# infer.query(['Churn'])\n",
    "y_pred = get_query_result(infer, test_X)\n",
    "y_pred\n",
    "# telecom_churn_prediction_alg(bn,os_smote_X,test_X,os_smote_Y,test_Y,threshold_plot = True)"
   ]
  },
  {
   "cell_type": "markdown",
   "metadata": {
    "_uuid": "f985c3fb0797143d22aa5635cb58cbbab954bb2c"
   },
   "source": [
    "# <a id='6'>6. Model Performances</a>\n",
    "## <a id='6.1'>6.1. model performance metrics</a>"
   ]
  },
  {
   "cell_type": "code",
   "execution_count": null,
   "metadata": {
    "_uuid": "0fa855b07426701aa3ec9724669c022854087ef6"
   },
   "outputs": [],
   "source": [
    "from sklearn.metrics import f1_score\n",
    "from sklearn.metrics import cohen_kappa_score\n",
    "\n",
    "#gives model report in dataframe\n",
    "def model_report(model,training_x,testing_x,training_y,testing_y,name) :\n",
    "    model.fit(training_x,training_y)\n",
    "    predictions  = model.predict(testing_x)\n",
    "    accuracy     = accuracy_score(testing_y,predictions)\n",
    "    recallscore  = recall_score(testing_y,predictions)\n",
    "    precision    = precision_score(testing_y,predictions)\n",
    "    roc_auc      = roc_auc_score(testing_y,predictions)\n",
    "    f1score      = f1_score(testing_y,predictions) \n",
    "    kappa_metric = cohen_kappa_score(testing_y,predictions)\n",
    "    \n",
    "    df = pd.DataFrame({\"Model\"           : [name],\n",
    "                       \"Accuracy_score\"  : [accuracy],\n",
    "                       \"Recall_score\"    : [recallscore],\n",
    "                       \"Precision\"       : [precision],\n",
    "                       \"f1_score\"        : [f1score],\n",
    "                       \"Area_under_curve\": [roc_auc],\n",
    "                       \"Kappa_metric\"    : [kappa_metric],\n",
    "                      })\n",
    "    return df\n",
    "\n",
    "#outputs for every model\n",
    "model1 = model_report(logit,train_X,test_X,train_Y,test_Y,\n",
    "                      \"Logistic Regression(Baseline_model)\")\n",
    "model2 = model_report(logit_smote,os_smote_X,test_X,os_smote_Y,test_Y,\n",
    "                      \"Logistic Regression(SMOTE)\")\n",
    "model3 = model_report(logit_rfe,train_rf_X,test_rf_X,train_rf_Y,test_rf_Y,\n",
    "                      \"Logistic Regression(RFE)\")\n",
    "decision_tree = DecisionTreeClassifier(max_depth = 9,\n",
    "                                       random_state = 123,\n",
    "                                       splitter  = \"best\",\n",
    "                                       criterion = \"gini\",\n",
    "                                      )\n",
    "model4 = model_report(decision_tree,train_X,test_X,train_Y,test_Y,\n",
    "                      \"Decision Tree\")\n",
    "model5 = model_report(knn,os_smote_X,test_X,os_smote_Y,test_Y,\n",
    "                      \"KNN Classifier\")\n",
    "rfc = RandomForestClassifier(n_estimators = 1000,\n",
    "                             random_state = 123,\n",
    "                             max_depth = 9,\n",
    "                             criterion = \"gini\")\n",
    "model6 = model_report(rfc,train_X,test_X,train_Y,test_Y,\n",
    "                      \"Random Forest Classifier\")\n",
    "model7 = model_report(gnb,os_smote_X,test_X,os_smote_Y,test_Y,\n",
    "                      \"Naive Bayes\")\n",
    "model8 = model_report(svc_lin,os_smote_X,test_X,os_smote_Y,test_Y,\n",
    "                      \"SVM Classifier Linear\")\n",
    "model9 = model_report(svc_rbf,os_smote_X,test_X,os_smote_Y,test_Y,\n",
    "                      \"SVM Classifier RBF\")\n",
    "model10 = model_report(lgbm_c,os_smote_X,test_X,os_smote_Y,test_Y,\n",
    "                      \"LGBM Classifier\")\n",
    "model11 = model_report(xgc,os_smote_X,test_X,os_smote_Y,test_Y,\n",
    "                      \"XGBoost Classifier\")\n",
    "\n",
    "#concat all models\n",
    "model_performances = pd.concat([model1,model2,model3,\n",
    "                                model4,model5,model6,\n",
    "                                model7,model8,model9,\n",
    "                                model10,model11],axis = 0).reset_index()\n",
    "\n",
    "model_performances = model_performances.drop(columns = \"index\",axis =1)\n",
    "\n",
    "table  = ff.create_table(np.round(model_performances,4))\n",
    "\n",
    "py.iplot(table)"
   ]
  },
  {
   "cell_type": "markdown",
   "metadata": {
    "_uuid": "132cc1f1657a71dd267b44c232741b44b5f174fb"
   },
   "source": [
    "## <a id='6.2'>6.2. Compare model metrics</a>"
   ]
  },
  {
   "cell_type": "code",
   "execution_count": null,
   "metadata": {
    "_uuid": "bac094f82b5581e62772d201c5dcc964e2f8698a"
   },
   "outputs": [],
   "source": [
    "model_performances\n",
    "def output_tracer(metric,color) :\n",
    "    tracer = go.Bar(y = model_performances[\"Model\"] ,\n",
    "                    x = model_performances[metric],\n",
    "                    orientation = \"h\",name = metric ,\n",
    "                    marker = dict(line = dict(width =.7),\n",
    "                                  color = color)\n",
    "                   )\n",
    "    return tracer\n",
    "\n",
    "layout = go.Layout(dict(title = \"Model performances\",\n",
    "                        plot_bgcolor  = \"rgb(243,243,243)\",\n",
    "                        paper_bgcolor = \"rgb(243,243,243)\",\n",
    "                        xaxis = dict(gridcolor = 'rgb(255, 255, 255)',\n",
    "                                     title = \"metric\",\n",
    "                                     zerolinewidth=1,\n",
    "                                     ticklen=5,gridwidth=2),\n",
    "                        yaxis = dict(gridcolor = 'rgb(255, 255, 255)',\n",
    "                                     zerolinewidth=1,ticklen=5,gridwidth=2),\n",
    "                        margin = dict(l = 250),\n",
    "                        height = 780\n",
    "                       )\n",
    "                  )\n",
    "\n",
    "\n",
    "trace1  = output_tracer(\"Accuracy_score\",\"#6699FF\")\n",
    "trace2  = output_tracer('Recall_score',\"red\")\n",
    "trace3  = output_tracer('Precision',\"#33CC99\")\n",
    "trace4  = output_tracer('f1_score',\"lightgrey\")\n",
    "trace5  = output_tracer('Kappa_metric',\"#FFCC99\")\n",
    "\n",
    "data = [trace1,trace2,trace3,trace4,trace5]\n",
    "fig = go.Figure(data=data,layout=layout)\n",
    "py.iplot(fig)\n",
    "\n"
   ]
  },
  {
   "cell_type": "markdown",
   "metadata": {
    "_uuid": "920f02fd2a3da5aed679aade56b1227481cc42a3"
   },
   "source": [
    "## <a id='6.3'>6.3. Confusion matrices for models</a>"
   ]
  },
  {
   "cell_type": "code",
   "execution_count": null,
   "metadata": {
    "_uuid": "47ecb82832b1af00324b808c7e6ff30e15aa06df"
   },
   "outputs": [],
   "source": [
    "lst    = [logit,logit_smote,decision_tree,knn,rfc,\n",
    "          gnb,svc_lin,svc_rbf,lgbm_c,xgc]\n",
    "\n",
    "length = len(lst)\n",
    "\n",
    "mods   = ['Logistic Regression(Baseline_model)','Logistic Regression(SMOTE)',\n",
    "          'Decision Tree','KNN Classifier','Random Forest Classifier',\"Naive Bayes\",\n",
    "          'SVM Classifier Linear','SVM Classifier RBF', 'LGBM Classifier',\n",
    "          'XGBoost Classifier']\n",
    "\n",
    "fig = plt.figure(figsize=(13,15))\n",
    "fig.set_facecolor(\"#F3F3F3\")\n",
    "for i,j,k in itertools.zip_longest(lst,range(length),mods) :\n",
    "    plt.subplot(4,3,j+1)\n",
    "    predictions = i.predict(test_X)\n",
    "    conf_matrix = confusion_matrix(predictions,test_Y)\n",
    "    sns.heatmap(conf_matrix,annot=True,fmt = \"d\",square = True,\n",
    "                xticklabels=[\"not churn\",\"churn\"],\n",
    "                yticklabels=[\"not churn\",\"churn\"],\n",
    "                linewidths = 2,linecolor = \"w\",cmap = \"Set1\")\n",
    "    plt.title(k,color = \"b\")\n",
    "    plt.subplots_adjust(wspace = .3,hspace = .3)"
   ]
  },
  {
   "cell_type": "markdown",
   "metadata": {
    "_uuid": "7d3d15f7aa0c14639397d99ac351be0324605ff9"
   },
   "source": [
    "## <a id='6.4'>6.4. ROC - Curves  for models</a>"
   ]
  },
  {
   "cell_type": "code",
   "execution_count": null,
   "metadata": {
    "_uuid": "defa68e25a63291f858057efec664391b2639e59"
   },
   "outputs": [],
   "source": [
    "lst    = [logit,logit_smote,decision_tree,knn,rfc,\n",
    "          gnb,svc_lin,svc_rbf,lgbm_c,xgc]\n",
    "\n",
    "length = len(lst)\n",
    "\n",
    "mods   = ['Logistic Regression(Baseline_model)','Logistic Regression(SMOTE)',\n",
    "          'Decision Tree','KNN Classifier','Random Forest Classifier',\"Naive Bayes\",\n",
    "          'SVM Classifier Linear','SVM Classifier RBF', 'LGBM Classifier',\n",
    "          'XGBoost Classifier']\n",
    "\n",
    "plt.style.use(\"dark_background\")\n",
    "fig = plt.figure(figsize=(12,16))\n",
    "fig.set_facecolor(\"#F3F3F3\")\n",
    "for i,j,k in itertools.zip_longest(lst,range(length),mods) :\n",
    "    qx = plt.subplot(4,3,j+1)\n",
    "    probabilities = i.predict_proba(test_X)\n",
    "    predictions   = i.predict(test_X)\n",
    "    fpr,tpr,thresholds = roc_curve(test_Y,probabilities[:,1])\n",
    "    plt.plot(fpr,tpr,linestyle = \"dotted\",\n",
    "             color = \"royalblue\",linewidth = 2,\n",
    "             label = \"AUC = \" + str(np.around(roc_auc_score(test_Y,predictions),3)))\n",
    "    plt.plot([0,1],[0,1],linestyle = \"dashed\",\n",
    "             color = \"orangered\",linewidth = 1.5)\n",
    "    plt.fill_between(fpr,tpr,alpha = .4)\n",
    "    plt.fill_between([0,1],[0,1],color = \"k\")\n",
    "    plt.legend(loc = \"lower right\",\n",
    "               prop = {\"size\" : 12})\n",
    "    qx.set_facecolor(\"k\")\n",
    "    plt.grid(True,alpha = .15)\n",
    "    plt.title(k,color = \"b\")\n",
    "    plt.xticks(np.arange(0,1,.3))\n",
    "    plt.yticks(np.arange(0,1,.3))"
   ]
  },
  {
   "cell_type": "markdown",
   "metadata": {
    "_uuid": "4e3e5dd305ef65d9c16be5a93634689ce944de5a"
   },
   "source": [
    "## <a id='6.5'>6.5. Precision recall curves</a>"
   ]
  },
  {
   "cell_type": "code",
   "execution_count": null,
   "metadata": {
    "_uuid": "d0124d0b53da3a46be6d1fcf160d59ef1cc3a81c"
   },
   "outputs": [],
   "source": [
    "from sklearn.metrics import precision_recall_curve\n",
    "from sklearn.metrics import average_precision_score\n",
    "\n",
    "\n",
    "lst    = [logit,logit_smote,decision_tree,knn,rfc,\n",
    "          gnb,svc_lin,svc_rbf,lgbm_c,xgc]\n",
    "\n",
    "length = len(lst)\n",
    "\n",
    "mods   = ['Logistic Regression(Baseline_model)','Logistic Regression(SMOTE)',\n",
    "          'Decision Tree','KNN Classifier','Random Forest Classifier',\"Naive Bayes\",\n",
    "          'SVM Classifier Linear','SVM Classifier RBF', 'LGBM Classifier',\n",
    "          'XGBoost Classifier']\n",
    "\n",
    "fig = plt.figure(figsize=(13,17))\n",
    "fig.set_facecolor(\"#F3F3F3\")\n",
    "for i,j,k in itertools.zip_longest(lst,range(length),mods) :\n",
    "    \n",
    "    qx = plt.subplot(4,3,j+1)\n",
    "    probabilities = i.predict_proba(test_X)\n",
    "    predictions   = i.predict(test_X)\n",
    "    recall,precision,thresholds = precision_recall_curve(test_Y,probabilities[:,1])\n",
    "    plt.plot(recall,precision,linewidth = 1.5,\n",
    "             label = (\"avg_pcn : \" + \n",
    "                      str(np.around(average_precision_score(test_Y,predictions),3))))\n",
    "    plt.plot([0,1],[0,0],linestyle = \"dashed\")\n",
    "    plt.fill_between(recall,precision,alpha = .2)\n",
    "    plt.legend(loc = \"lower left\",\n",
    "               prop = {\"size\" : 10})\n",
    "    qx.set_facecolor(\"k\")\n",
    "    plt.grid(True,alpha = .15)\n",
    "    plt.title(k,color = \"b\")\n",
    "    plt.xlabel(\"recall\",fontsize =7)\n",
    "    plt.ylabel(\"precision\",fontsize =7)\n",
    "    plt.xlim([0.25,1])\n",
    "    plt.yticks(np.arange(0,1,.3))\n",
    "    "
   ]
  },
  {
   "cell_type": "code",
   "execution_count": null,
   "metadata": {},
   "outputs": [],
   "source": []
  }
 ],
 "metadata": {
  "kernelspec": {
   "display_name": "Python 3",
   "language": "python",
   "name": "python3"
  },
  "language_info": {
   "codemirror_mode": {
    "name": "ipython",
    "version": 3
   },
   "file_extension": ".py",
   "mimetype": "text/x-python",
   "name": "python",
   "nbconvert_exporter": "python",
   "pygments_lexer": "ipython3",
   "version": "3.7.4"
  }
 },
 "nbformat": 4,
 "nbformat_minor": 1
}
